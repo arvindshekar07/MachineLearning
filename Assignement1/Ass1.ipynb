{
 "cells": [
  {
   "cell_type": "code",
   "execution_count": 79,
   "metadata": {},
   "outputs": [],
   "source": [
    "#IMPORTS\n",
    "import numpy as np\n",
    "import matplotlib.pyplot as plt\n",
    "\n",
    "# THIS IS TO READ FROM A DAT FILE AND GET A LIST OF LIST WITH WITH EACH\n",
    "# COULOUMN AS A LIST\n",
    "def getListFromAFile(filename):\n",
    "    x= np.loadtxt(filename, unpack=True)\n",
    "    return x\n",
    "\n",
    "\n",
    "# THIS IS TO CREATE A SIMPLE 2D PLOTS SCATTER PLOTS\n",
    "def createPlots(inputList,xlabel,ylabel):\n",
    "    plt.xlabel(xlabel)\n",
    "    plt.ylabel(ylabel)\n",
    "    plt.scatter(inputList[0],inputList[1],alpha=0.5,color ='r')\n",
    "    plt.show()"
   ]
  },
  {
   "cell_type": "code",
   "execution_count": 80,
   "metadata": {},
   "outputs": [
    {
     "name": "stdout",
     "output_type": "stream",
     "text": [
      "400\n"
     ]
    }
   ],
   "source": [
    "x1 = getListFromAFile(\"Data/svar-set1.dat\");\n",
    "print x1.size\n",
    "createPlots(x1,'xaxis','yaxis')"
   ]
  },
  {
   "cell_type": "code",
   "execution_count": null,
   "metadata": {},
   "outputs": [],
   "source": [
    ""
   ]
  }
 ],
 "metadata": {
  "kernelspec": {
   "display_name": "Python 2",
   "language": "python",
   "name": "python2"
  },
  "language_info": {
   "codemirror_mode": {
    "name": "ipython",
    "version": 2.0
   },
   "file_extension": ".py",
   "mimetype": "text/x-python",
   "name": "python",
   "nbconvert_exporter": "python",
   "pygments_lexer": "ipython2",
   "version": "2.7.11"
  }
 },
 "nbformat": 4,
 "nbformat_minor": 0
}