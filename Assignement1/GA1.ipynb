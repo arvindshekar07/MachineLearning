{
 "cells": [
  {
   "cell_type": "code",
   "execution_count": 40,
   "metadata": {},
   "outputs": [],
   "source": [
    "# Read table and load data\n",
    "\n",
    "# data = np.matrix(np.genfromtxt(\"http://www.cs.iit.edu/~agam/cs584/data/regression/svar-set1.dat\"))\n",
    "# data = np.matrix(np.genfromtxt(\"http://www.cs.iit.edu/~agam/cs584/data/regression/svar-set2.dat\"))\n",
    "data = np.matrix(np.genfromtxt(\"http://www.cs.iit.edu/~agam/cs584/data/regression/svar-set3.dat\"))\n",
    "# data = np.matrix(np.genfromtxt(\"http://www.cs.iit.edu/~agam/cs584/data/regression/svar-set4.dat\"))\n",
    "# print data"
   ]
  },
  {
   "cell_type": "code",
   "execution_count": 41,
   "metadata": {},
   "outputs": [
    {
     "name": "stdout",
     "output_type": "stream",
     "text": [
      "(200L, 2L)\n"
     ]
    }
   ],
   "source": [
    "# Print the shape of data\n",
    "print data.shape"
   ]
  },
  {
   "cell_type": "code",
   "execution_count": 42,
   "metadata": {},
   "outputs": [
    {
     "data": {
      "text/plain": [
       "[<matplotlib.lines.Line2D at 0x9498160>]"
      ]
     },
     "execution_count": 42,
     "output_type": "execute_result",
     "metadata": {}
    },
    {
     "data": {
      "image/png": "[encoded data removed]"
     },
     "output_type": "display_data",
     "metadata": {}
    }
   ],
   "source": [
    "#Plot data using matplotlib\n",
    "\n",
    "a= np.array(data[0:len(data),0])\n",
    "b= np.array(data[0:len(data),1])\n",
    "plt.plot(a,b, 'bo')"
   ]
  },
  {
   "cell_type": "code",
   "execution_count": 43,
   "metadata": {},
   "outputs": [
    {
     "data": {
      "text/plain": [
       "(matrix([[  4.62311558e+00,   1.83808501e+00],\n",
       "         [  8.79396985e+00,  -6.97110973e-02],\n",
       "         [  8.99497487e+00,   3.74705947e-01],\n",
       "         [  8.04020101e+00,  -4.64004482e-01],\n",
       "         [  3.66834171e+00,   6.78234265e-01],\n",
       "         [  2.31155779e+00,  -1.69622728e-01],\n",
       "         [  3.86934673e+00,   9.42708744e-01],\n",
       "         [  1.30653266e+00,   1.78621393e-01],\n",
       "         [  2.51256281e-01,  -7.58550106e-02],\n",
       "         [  9.34673367e+00,   2.39996055e-01],\n",
       "         [  7.18592965e+00,   1.42372771e-01],\n",
       "         [  5.52763819e+00,   1.91570864e+00],\n",
       "         [  1.15577889e+00,  -1.86477749e-01],\n",
       "         [  4.57286432e+00,   1.61041634e+00],\n",
       "         [  6.43216080e+00,   7.35304811e-01],\n",
       "         [  5.82914573e+00,   1.43213663e+00],\n",
       "         [  2.56281407e+00,   2.91279491e-01],\n",
       "         [  8.49246231e+00,  -5.94571888e-02],\n",
       "         [  7.63819095e+00,  -1.23227051e-01],\n",
       "         [  6.03015075e-01,  -1.23467455e-01],\n",
       "         [  5.22613065e+00,   1.96178619e+00],\n",
       "         [  5.02512563e-01,  -3.56357384e-01],\n",
       "         [  3.31658291e+00,   5.89416000e-01],\n",
       "         [  8.84422111e+00,  -2.50012202e-01],\n",
       "         [  3.56783920e+00,   8.55904710e-01],\n",
       "         [  3.71859296e+00,   8.16791091e-01],\n",
       "         [  6.18090452e+00,   7.79616892e-01],\n",
       "         [  7.98994975e+00,   2.95211672e-02],\n",
       "         [  8.29145729e+00,   2.82730880e-02],\n",
       "         [  9.69849246e+00,  -1.27797043e-01],\n",
       "         [  2.06030151e+00,  -1.89133608e-01],\n",
       "         [  4.02010050e-01,   2.91153558e-01],\n",
       "         [  3.81909548e+00,   8.94302264e-01],\n",
       "         [  6.88442211e+00,   3.67987197e-01],\n",
       "         [  6.53266332e-01,  -2.07822823e-01],\n",
       "         [  6.53266332e+00,   5.94475688e-01],\n",
       "         [  9.59798995e+00,   3.14363951e-02],\n",
       "         [  4.17085427e+00,   1.29801597e+00],\n",
       "         [  5.77889447e+00,   1.46348517e+00],\n",
       "         [  9.49748744e+00,  -1.11919611e-01],\n",
       "         [  6.98492462e+00,   3.73010118e-02],\n",
       "         [  7.03517588e-01,   1.44904030e-01],\n",
       "         [  4.72361809e+00,   2.29325722e+00],\n",
       "         [  7.93969849e+00,  -8.67803518e-02],\n",
       "         [  1.85929648e+00,   1.88627366e-01],\n",
       "         [  4.82412060e+00,   1.72775097e+00],\n",
       "         [  3.21608040e+00,   6.22215074e-01],\n",
       "         [  1.00000000e+01,  -2.19105156e-01],\n",
       "         [  7.58793970e+00,   2.88140004e-01],\n",
       "         [  4.42211055e+00,   2.08150561e+00],\n",
       "         [  3.46733668e+00,   7.46333880e-01],\n",
       "         [  5.57788945e+00,   1.46970224e+00],\n",
       "         [  7.83919598e+00,  -2.02223303e-01],\n",
       "         [  8.59296482e+00,  -3.13509487e-01],\n",
       "         [  1.65829146e+00,  -2.97604104e-01],\n",
       "         [  8.94472362e+00,   1.83002471e-01],\n",
       "         [  1.20603015e+00,  -2.16047045e-01],\n",
       "         [  8.14070352e+00,  -1.55971989e-01],\n",
       "         [  3.01507538e-01,  -2.71913257e-01],\n",
       "         [  8.64321608e+00,   6.40230616e-02],\n",
       "         [  9.19597990e+00,   2.14734330e-01],\n",
       "         [  0.00000000e+00,   1.30940593e-01],\n",
       "         [  8.04020101e-01,   8.94374749e-03],\n",
       "         [  6.83417085e+00,  -6.00191058e-02],\n",
       "         [  2.26130653e+00,   7.47473244e-02],\n",
       "         [  6.78391960e+00,   6.04674276e-01],\n",
       "         [  7.08542714e+00,   6.16167670e-01],\n",
       "         [  2.96482412e+00,   5.76559362e-01],\n",
       "         [  7.38693467e+00,   5.79426282e-03],\n",
       "         [  6.68341709e+00,   7.31491890e-01],\n",
       "         [  6.63316583e+00,   2.79230324e-01],\n",
       "         [  5.87939698e+00,   1.69025069e+00],\n",
       "         [  7.53768844e-01,   2.55828186e-01],\n",
       "         [  9.84924623e+00,  -1.84413390e-01],\n",
       "         [  5.37688442e+00,   2.15448928e+00],\n",
       "         [  3.41708543e+00,   4.25140836e-01],\n",
       "         [  1.75879397e+00,  -1.03107631e-01],\n",
       "         [  9.29648241e+00,  -1.64342795e-01],\n",
       "         [  7.53768844e+00,   7.69993194e-02],\n",
       "         [  2.36180905e+00,   4.09146311e-01],\n",
       "         [  2.21105528e+00,   1.80940880e-01],\n",
       "         [  1.50753769e+00,   2.13144358e-01],\n",
       "         [  2.51256281e+00,   3.43855595e-01],\n",
       "         [  4.27135678e+00,   1.70931432e+00],\n",
       "         [  5.42713568e+00,   1.83989153e+00],\n",
       "         [  6.73366834e+00,   5.28184438e-01],\n",
       "         [  5.47738693e+00,   1.60188684e+00],\n",
       "         [  3.26633166e+00,   5.45940104e-01],\n",
       "         [  8.89447236e+00,   2.60592916e-01],\n",
       "         [  1.25628141e+00,   1.21961595e-01],\n",
       "         [  1.95979899e+00,   2.04934787e-01],\n",
       "         [  9.09547739e+00,   2.20888972e-01],\n",
       "         [  1.40703518e+00,   2.62510434e-02],\n",
       "         [  5.12562814e+00,   1.66938812e+00],\n",
       "         [  9.74874372e+00,   1.85467296e-01],\n",
       "         [  1.80904523e+00,  -1.07048646e-01],\n",
       "         [  6.23115578e+00,   1.14818467e+00],\n",
       "         [  2.91457286e+00,   4.92684168e-01],\n",
       "         [  2.11055276e+00,   1.77922481e-01],\n",
       "         [  8.54271357e-01,   1.33078013e-01],\n",
       "         [  7.23618090e+00,   1.98367632e-02],\n",
       "         [  1.00502513e-01,   7.59007085e-02],\n",
       "         [  1.35678392e+00,   5.87963521e-02],\n",
       "         [  9.54773869e+00,   1.19337645e-01],\n",
       "         [  4.47236181e+00,   1.77154542e+00],\n",
       "         [  8.69346734e+00,   7.40047463e-02],\n",
       "         [  2.61306533e+00,  -3.94606281e-01],\n",
       "         [  9.04522613e+00,   1.84424768e-01],\n",
       "         [  3.76884422e+00,   7.68570065e-01],\n",
       "         [  3.91959799e+00,   1.01073436e+00],\n",
       "         [  8.39195980e+00,  -3.03896315e-02],\n",
       "         [  6.28140704e+00,   8.74472981e-01],\n",
       "         [  4.77386935e+00,   1.85776466e+00],\n",
       "         [  3.51758794e-01,  -3.63776269e-01],\n",
       "         [  6.38190955e+00,   3.30695160e-01],\n",
       "         [  1.10552764e+00,  -3.94566592e-02],\n",
       "         [  3.06532663e+00,  -5.21031628e-02],\n",
       "         [  1.00502513e+00,  -7.18078940e-02],\n",
       "         [  7.78894472e+00,   1.90356726e-01],\n",
       "         [  4.12060302e+00,   1.27217292e+00],\n",
       "         [  5.32663317e+00,   1.80248116e+00],\n",
       "         [  2.46231156e+00,   2.52726933e-02],\n",
       "         [  6.58291457e+00,   7.22459750e-01],\n",
       "         [  3.96984925e+00,   1.31765885e+00],\n",
       "         [  2.81407035e+00,   1.95606165e-01],\n",
       "         [  4.87437186e+00,   2.15436658e+00],\n",
       "         [  8.24120603e+00,  -2.00501716e-01],\n",
       "         [  4.97487437e+00,   1.87650075e+00],\n",
       "         [  1.90954774e+00,   2.03371023e-01],\n",
       "         [  1.60804020e+00,   2.62217640e-02],\n",
       "         [  5.02512563e-02,   1.05391866e-01],\n",
       "         [  9.39698492e+00,   2.17162372e-01],\n",
       "         [  9.94974874e+00,   8.36072026e-03],\n",
       "         [  7.43718593e+00,   5.22793350e-02],\n",
       "         [  3.16582915e+00,   4.68289737e-01],\n",
       "         [  9.89949749e+00,  -2.35594715e-01],\n",
       "         [  6.13065327e+00,   8.39061884e-01],\n",
       "         [  9.54773869e-01,  -1.01709231e-01],\n",
       "         [  8.09045226e+00,  -3.28947852e-01],\n",
       "         [  6.03015075e+00,   1.43142675e+00],\n",
       "         [  4.02010050e+00,   9.57488762e-01],\n",
       "         [  4.22110553e+00,   1.56110491e+00],\n",
       "         [  4.32160804e+00,   1.80775294e+00],\n",
       "         [  5.07537688e+00,   1.49701619e+00],\n",
       "         [  9.79899497e+00,  -5.57133966e-01],\n",
       "         [  9.14572864e+00,  -4.41462138e-02],\n",
       "         [  8.44221106e+00,   6.04436475e-01],\n",
       "         [  6.48241206e+00,   5.55184042e-01],\n",
       "         [  7.68844221e+00,   5.87210777e-02],\n",
       "         [  1.70854271e+00,   3.07831561e-02],\n",
       "         [  2.41206030e+00,   1.96913841e-01],\n",
       "         [  9.64824121e+00,  -1.66645441e-01],\n",
       "         [  5.62814070e+00,   1.60779561e+00],\n",
       "         [  3.51758794e+00,   5.51699601e-01],\n",
       "         [  3.01507538e+00,   2.85865700e-01],\n",
       "         [  9.04522613e-01,   1.28375421e-01],\n",
       "         [  4.67336683e+00,   1.75735108e+00],\n",
       "         [  6.08040201e+00,   7.52462642e-01],\n",
       "         [  3.11557789e+00,  -1.46608230e-01],\n",
       "         [  3.61809045e+00,   7.73224601e-01]]),\n",
       " matrix([[ 8.34170854, -0.25244136],\n",
       "         [ 0.20100503, -0.04813436],\n",
       "         [ 3.36683417,  0.32456605],\n",
       "         [ 1.45728643, -0.08297279],\n",
       "         [ 7.88944724,  0.15581606],\n",
       "         [ 9.24623116, -0.02421262],\n",
       "         [ 5.27638191,  2.36937005],\n",
       "         [ 5.67839196,  1.63818643],\n",
       "         [ 5.92964824,  1.41832817],\n",
       "         [ 2.86432161,  0.10977772],\n",
       "         [ 5.1758794 ,  2.21066971],\n",
       "         [ 2.16080402, -0.15781974],\n",
       "         [ 2.71356784,  0.25808137],\n",
       "         [ 4.52261307,  1.60679754],\n",
       "         [ 1.55778894, -0.02210941],\n",
       "         [ 4.07035176,  1.35735748],\n",
       "         [ 9.44723618,  0.03082364],\n",
       "         [ 5.72864322,  1.2072015 ],\n",
       "         [ 4.3718593 ,  1.55107714],\n",
       "         [ 5.02512563,  2.09802871],\n",
       "         [ 0.45226131, -0.20233341],\n",
       "         [ 8.19095477,  0.28798237],\n",
       "         [ 1.05527638,  0.18942157],\n",
       "         [ 7.28643216,  0.10903545],\n",
       "         [ 7.33668342,  0.36130544],\n",
       "         [ 7.03517588,  0.09982019],\n",
       "         [ 4.92462312,  2.12279539],\n",
       "         [ 7.73869347, -0.18933396],\n",
       "         [ 2.66331658,  0.36090803],\n",
       "         [ 5.9798995 ,  1.244079  ],\n",
       "         [ 2.7638191 ,  0.26019339],\n",
       "         [ 7.48743719, -0.06720593],\n",
       "         [ 0.15075377,  0.15611259],\n",
       "         [ 8.54271357,  0.18413751],\n",
       "         [ 6.33165829,  0.91846023],\n",
       "         [ 2.01005025,  0.03476549],\n",
       "         [ 6.93467337,  0.59763065],\n",
       "         [ 8.74371859, -0.1362811 ],\n",
       "         [ 0.55276382, -0.04140353],\n",
       "         [ 7.13567839,  0.17993209]]))"
      ]
     },
     "execution_count": 43,
     "output_type": "execute_result",
     "metadata": {}
    }
   ],
   "source": [
    "tr = 0\n",
    "te = 0\n",
    "def train_test_split(split_val): \n",
    "    \n",
    "    #Eg Enter split_val as 0.2 to get test set with 20% size of dataset and train set with 80% size of dataset\n",
    "    #Change values of split_val for 1.5\n",
    "    \n",
    "    tr = data[:(-(int)(len(data)*split_val))]\n",
    "    te = data[(-(int)(len(data)*split_val)):]\n",
    "    return tr, te\n",
    "\n",
    "tr, te = train_test_split(0.2)\n",
    "tr, te"
   ]
  },
  {
   "cell_type": "code",
   "execution_count": 44,
   "metadata": {},
   "outputs": [
    {
     "name": "stdout",
     "output_type": "stream",
     "text": [
      "(1L, 160L) (160L, 1L)\n",
      "2000\n",
      "[[ 0.41695565]] [[ 0.00671099]]\n"
     ]
    }
   ],
   "source": [
    "#Fit data on training set (Using gradient descent)\n",
    "\n",
    "#Get co-efficients\n",
    "\n",
    "theta_0 =rand.uniform(0,1) #intercept\n",
    "theta_1 =rand.uniform(0,1) #slope\n",
    "\n",
    "#Put the learning rate\n",
    "alpha = 0.00001\n",
    "\n",
    "x = tr[:,0]\n",
    "y = tr[:,1]\n",
    "unit_mat = np.matrix(np.ones(160)).transpose()\n",
    "\n",
    "print x.transpose().shape, y.shape\n",
    "\n",
    "count = 0\n",
    "\n",
    "#Apply gradient descent to get local minima\n",
    "for i in range(2000):\n",
    "    \n",
    "    pt0 = theta_0\n",
    "    pt1 = theta_1\n",
    "    \n",
    "    b = ((((theta_0 + (theta_1*(x.transpose()))) - y.transpose())))\n",
    "    t0_prod = np.dot(b,unit_mat)\n",
    "    temp_0 = theta_0 - (alpha * t0_prod)      \n",
    "    \n",
    "    a = ((((theta_0 + (theta_1*(x.transpose()))) - y.transpose())))\n",
    "    t1_prod = np.dot(a,x)\n",
    "    temp_1 = theta_1 - (alpha * t1_prod)\n",
    "    \n",
    "    count += 1\n",
    "    \n",
    "    if ((abs(theta_0 - temp_0) < 0.0000001) & (abs(theta_1 - temp_1) < 0.0000001)):\n",
    "        break\n",
    "        \n",
    "    theta_0 = temp_0\n",
    "    theta_1 = temp_1\n",
    "\n",
    "print count\n",
    "print theta_0, theta_1"
   ]
  },
  {
   "cell_type": "code",
   "execution_count": 45,
   "metadata": {},
   "outputs": [
    {
     "data": {
      "image/png": "[encoded data removed]"
     },
     "output_type": "display_data",
     "metadata": {}
    },
    {
     "name": "stdout",
     "output_type": "stream",
     "text": [
      "0.603897768251\n"
     ]
    }
   ],
   "source": [
    "#Predict output of the test set\n",
    "\n",
    "x_te = te[:,0]\n",
    "y_te = te[:,1]\n",
    "\n",
    "pred = theta_0 + (theta_1*(x_te.transpose())) #predicted output\n",
    "\n",
    "plt.plot(np.array(x_te),np.array(pred.transpose()), 'bo', label='Predicted')\n",
    "plt.plot(np.array(x_te),np.array(y_te), 'ro', label='Actual')\n",
    "plt.legend()\n",
    "plt.show()\n",
    "\n",
    "mse = np.mean(np.square(pred - y_te.transpose()))\n",
    "print mse   #get mean square error for predicted output vs actual output"
   ]
  },
  {
   "cell_type": "code",
   "execution_count": 46,
   "metadata": {},
   "outputs": [
    {
     "data": {
      "image/png": "[encoded data removed]"
     },
     "output_type": "display_data",
     "metadata": {}
    },
    {
     "name": "stdout",
     "output_type": "stream",
     "text": [
      "0.603060283306\n"
     ]
    }
   ],
   "source": [
    "# Using sklearn linear regression to fit and predict data\n",
    "\n",
    "from sklearn import linear_model\n",
    "\n",
    "regr = linear_model.LinearRegression()\n",
    "regr.fit(x.reshape(-1,1), y.reshape(-1,1))   #fit the training data\n",
    "\n",
    "sk_pred = regr.predict(x_te.reshape(-1,1))   #predict the test data\n",
    "\n",
    "plt.plot(np.array(x_te),np.array(sk_pred), 'bo', label='sklearn_Predicted')\n",
    "plt.plot(np.array(x_te),np.array(y_te), 'ro', label='Actual')\n",
    "plt.legend()\n",
    "plt.show()\n",
    "\n",
    "\n",
    "sk_mse = np.mean(np.square(np.subtract(sk_pred.transpose(), y_te.transpose())))\n",
    "print sk_mse  #get mean square error for sklearn predicted output vs actual output"
   ]
  },
  {
   "cell_type": "code",
   "execution_count": 47,
   "metadata": {},
   "outputs": [
    {
     "name": "stdout",
     "output_type": "stream",
     "text": [
      "[[-0.57954544]\n",
      " [ 0.63763418]\n",
      " [-0.06352796]]\n"
     ]
    }
   ],
   "source": [
    "#Quadratic\n",
    "#--------------------------\n",
    "\n",
    "#Fit data on training set (Using Normal Equations method)\n",
    "#Get co-efficients\n",
    "\n",
    "from numpy.linalg import inv\n",
    "trr = np.column_stack((np.matrix(np.ones(160)).transpose(), x, np.square(x)))\n",
    "\n",
    "p1 = inv(np.dot(trr.transpose(), trr))\n",
    "p2 = np.dot(trr.transpose(), y)\n",
    "\n",
    "theta = np.dot(p1, p2)\n",
    "print theta"
   ]
  },
  {
   "cell_type": "code",
   "execution_count": 48,
   "metadata": {},
   "outputs": [
    {
     "data": {
      "image/png": "[encoded data removed]"
     },
     "output_type": "display_data",
     "metadata": {}
    },
    {
     "name": "stdout",
     "output_type": "stream",
     "text": [
      "0.315433982885\n"
     ]
    }
   ],
   "source": [
    "#Predict output of the test set (Quadratic)\n",
    "\n",
    "x_te = te[:,0]\n",
    "y_te = te[:,1]\n",
    "\n",
    "# pred = theta_0 + (theta_1*(x_te.transpose())) predicted output\n",
    "\n",
    "pred = (theta[0,:] + (theta[1,:]*(x_te.transpose())) + (theta[2,:]*(np.square(x_te.transpose()))))\n",
    "\n",
    "plt.plot(np.array(x_te),np.array(pred.transpose()), 'bo', label='Predicted')\n",
    "plt.plot(np.array(x_te),np.array(y_te), 'ro', label='Actual')\n",
    "plt.legend()\n",
    "plt.show()\n",
    "\n",
    "mse = np.mean(np.square(pred - y_te.transpose()))\n",
    "print mse   #get mean square error for predicted output vs actual output (quadratic)"
   ]
  },
  {
   "cell_type": "code",
   "execution_count": 49,
   "metadata": {},
   "outputs": [
    {
     "name": "stdout",
     "output_type": "stream",
     "text": [
      "[[ -6.12297396e-01]\n",
      " [  6.76622917e-01]\n",
      " [ -7.32364093e-02]\n",
      " [  6.42840170e-04]]\n"
     ]
    }
   ],
   "source": [
    "#Cubic\n",
    "#--------------------------\n",
    "\n",
    "#Fit data on training set (Using Normal Equations method)\n",
    "#Get co-efficients\n",
    "\n",
    "from numpy.linalg import inv\n",
    "trr = np.column_stack((np.matrix(np.ones(160)).transpose(), x, np.square(x), np.power(x, 3)))\n",
    "\n",
    "p1 = inv(np.dot(trr.transpose(), trr))\n",
    "p2 = np.dot(trr.transpose(), y)\n",
    "\n",
    "theta = np.dot(p1, p2)\n",
    "print theta"
   ]
  },
  {
   "cell_type": "code",
   "execution_count": 50,
   "metadata": {},
   "outputs": [
    {
     "data": {
      "image/png": "[encoded data removed]"
     },
     "output_type": "display_data",
     "metadata": {}
    },
    {
     "name": "stdout",
     "output_type": "stream",
     "text": [
      "0.316480643865\n"
     ]
    }
   ],
   "source": [
    "#Predict output of the test set (Cubic)\n",
    "\n",
    "x_te = te[:,0]\n",
    "y_te = te[:,1]\n",
    "\n",
    "\n",
    "pred = (theta[0,:] + (theta[1,:]*(x_te.transpose())) + (theta[2,:]*(np.square(x_te.transpose()))) + (theta[3,:]*(np.power(x_te.transpose(), 3))))\n",
    "\n",
    "plt.plot(np.array(x_te),np.array(pred.transpose()), 'bo', label='Predicted')\n",
    "plt.plot(np.array(x_te),np.array(y_te), 'ro', label='Actual')\n",
    "plt.legend()\n",
    "plt.show()\n",
    "\n",
    "mse = np.mean(np.square(pred - y_te.transpose()))\n",
    "print mse   #get mean square error for predicted output vs actual output (cubic)"
   ]
  },
  {
   "cell_type": "code",
   "execution_count": 51,
   "metadata": {},
   "outputs": [
    {
     "name": "stdout",
     "output_type": "stream",
     "text": [
      "[[ 0.38666923]\n",
      " [-1.3059726 ]\n",
      " [ 0.81497666]\n",
      " [-0.13686413]\n",
      " [ 0.00683748]]\n"
     ]
    }
   ],
   "source": [
    "#Quartic\n",
    "#--------------------------\n",
    "\n",
    "#Fit data on training set (Using Normal Equations method)\n",
    "#Get co-efficients\n",
    "\n",
    "from numpy.linalg import inv\n",
    "trr = np.column_stack((np.matrix(np.ones(160)).transpose(), x, np.square(x), np.power(x, 3), np.power(x, 4)))\n",
    "\n",
    "p1 = inv(np.dot(trr.transpose(), trr))\n",
    "p2 = np.dot(trr.transpose(), y)\n",
    "\n",
    "theta = np.dot(p1, p2)\n",
    "print theta"
   ]
  },
  {
   "cell_type": "code",
   "execution_count": 52,
   "metadata": {},
   "outputs": [
    {
     "data": {
      "image/png": "[encoded data removed]"
     },
     "output_type": "display_data",
     "metadata": {}
    },
    {
     "name": "stdout",
     "output_type": "stream",
     "text": [
      "0.131544709095\n"
     ]
    }
   ],
   "source": [
    "#Predict output of the test set (Quartic)\n",
    "\n",
    "x_te = te[:,0]\n",
    "y_te = te[:,1]\n",
    "\n",
    "# pred = theta_0 + (theta_1*(x_te.transpose())) predicted output\n",
    "\n",
    "pred = (theta[0,:] + (theta[1,:]*(x_te.transpose())) + (theta[2,:]*(np.square(x_te.transpose()))) + (theta[3,:]*(np.power(x_te.transpose(), 3))) + (theta[4,:]*(np.power(x_te.transpose(), 4))))\n",
    "\n",
    "plt.plot(np.array(x_te),np.array(pred.transpose()), 'bo', label='Predicted')\n",
    "plt.plot(np.array(x_te),np.array(y_te), 'ro', label='Actual')\n",
    "plt.legend()\n",
    "plt.show()\n",
    "\n",
    "mse = np.mean(np.square(pred - y_te.transpose()))\n",
    "print mse   #get mean square error for predicted output vs actual output (quartic)"
   ]
  },
  {
   "cell_type": "code",
   "execution_count": 53,
   "metadata": {},
   "outputs": [
    {
     "name": "stdout",
     "output_type": "stream",
     "text": [
      "[[  4.66458298e-01]\n",
      " [ -1.54658727e+00]\n",
      " [  9.83932448e-01]\n",
      " [ -1.81971237e-01]\n",
      " [  1.19084265e-02]\n",
      " [ -2.02417175e-04]]\n"
     ]
    }
   ],
   "source": [
    "#Power of 5\n",
    "#--------------------------\n",
    "\n",
    "#Fit data on training set (Using Normal Equations method)\n",
    "#Get co-efficients\n",
    "\n",
    "from numpy.linalg import inv\n",
    "trr = np.column_stack((np.matrix(np.ones(160)).transpose(), x, np.square(x), np.power(x, 3), np.power(x, 4), np.power(x, 5)))\n",
    "\n",
    "p1 = inv(np.dot(trr.transpose(), trr))\n",
    "p2 = np.dot(trr.transpose(), y)\n",
    "\n",
    "theta = np.dot(p1, p2)\n",
    "print theta"
   ]
  },
  {
   "cell_type": "code",
   "execution_count": 54,
   "metadata": {},
   "outputs": [
    {
     "data": {
      "image/png": "[encoded data removed]"
     },
     "output_type": "display_data",
     "metadata": {}
    },
    {
     "name": "stdout",
     "output_type": "stream",
     "text": [
      "0.132660951114\n"
     ]
    }
   ],
   "source": [
    "#Predict output of the test set (Power of 5)\n",
    "\n",
    "x_te = te[:,0]\n",
    "y_te = te[:,1]\n",
    "\n",
    "# pred = theta_0 + (theta_1*(x_te.transpose())) predicted output\n",
    "\n",
    "pred = (theta[0,:] + (theta[1,:]*(x_te.transpose())) + (theta[2,:]*(np.square(x_te.transpose()))) + (theta[3,:]*(np.power(x_te.transpose(), 3))) + (theta[4,:]*(np.power(x_te.transpose(), 4))) + (theta[5,:]*(np.power(x_te.transpose(), 5))))\n",
    "\n",
    "plt.plot(np.array(x_te),np.array(pred.transpose()), 'bo', label='Predicted')\n",
    "plt.plot(np.array(x_te),np.array(y_te), 'ro', label='Actual')\n",
    "plt.legend()\n",
    "plt.show()\n",
    "\n",
    "mse = np.mean(np.square(pred - y_te.transpose()))\n",
    "print mse   #get mean square error for predicted output vs actual output (Power of 5)"
   ]
  },
  {
   "cell_type": "code",
   "execution_count": 55,
   "metadata": {},
   "outputs": [
    {
     "name": "stdout",
     "output_type": "stream",
     "text": [
      "[[ -3.19018899e-01]\n",
      " [  1.93618234e+00]\n",
      " [ -2.57836203e+00]\n",
      " [  1.25781006e+00]\n",
      " [ -2.59215095e-01]\n",
      " [  2.36769600e-02]\n",
      " [ -7.95007297e-04]]\n"
     ]
    }
   ],
   "source": [
    "#Power of 6\n",
    "#--------------------------\n",
    "\n",
    "#Fit data on training set (Using Normal Equations method)\n",
    "#Get co-efficients\n",
    "\n",
    "from numpy.linalg import inv\n",
    "trr = np.column_stack((np.matrix(np.ones(160)).transpose(), x, np.square(x), np.power(x, 3), np.power(x, 4), np.power(x, 5), np.power(x, 6)))\n",
    "\n",
    "p1 = inv(np.dot(trr.transpose(), trr))\n",
    "p2 = np.dot(trr.transpose(), y)\n",
    "\n",
    "theta = np.dot(p1, p2)\n",
    "print theta"
   ]
  },
  {
   "cell_type": "code",
   "execution_count": 56,
   "metadata": {},
   "outputs": [
    {
     "data": {
      "image/png": "[encoded data removed]"
     },
     "output_type": "display_data",
     "metadata": {}
    },
    {
     "name": "stdout",
     "output_type": "stream",
     "text": [
      "0.0606142033444\n"
     ]
    }
   ],
   "source": [
    "#Predict output of the test set (Power of 6)\n",
    "\n",
    "x_te = te[:,0]\n",
    "y_te = te[:,1]\n",
    "\n",
    "# pred = theta_0 + (theta_1*(x_te.transpose())) predicted output\n",
    "\n",
    "pred = (theta[0,:] + (theta[1,:]*(x_te.transpose())) + (theta[2,:]*(np.square(x_te.transpose()))) + (theta[3,:]*(np.power(x_te.transpose(), 3))) + (theta[4,:]*(np.power(x_te.transpose(), 4))) + (theta[5,:]*(np.power(x_te.transpose(), 5))) + (theta[6,:]*(np.power(x_te.transpose(), 6))))\n",
    "\n",
    "plt.plot(np.array(x_te),np.array(pred.transpose()), 'bo', label='Predicted')\n",
    "plt.plot(np.array(x_te),np.array(y_te), 'ro', label='Actual')\n",
    "plt.legend()\n",
    "plt.show()\n",
    "\n",
    "mse = np.mean(np.square(pred - y_te.transpose()))\n",
    "print mse   #get mean square error for predicted output vs actual output (Power of 6)"
   ]
  },
  {
   "cell_type": "code",
   "execution_count": 57,
   "metadata": {},
   "outputs": [
    {
     "data": {
      "image/png": "[encoded data removed]"
     },
     "output_type": "display_data",
     "metadata": {}
    },
    {
     "name": "stdout",
     "output_type": "stream",
     "text": [
      "0.316145488671\n"
     ]
    }
   ],
   "source": [
    "# (For comparison) sklearn polynomial predictors for training the data and testing the output \n",
    "\n",
    "from sklearn.linear_model import Ridge\n",
    "from sklearn.preprocessing import PolynomialFeatures\n",
    "from sklearn.pipeline import make_pipeline\n",
    "\n",
    "regr = make_pipeline(PolynomialFeatures(2), Ridge()) #Quadratic\n",
    "# regr = make_pipeline(PolynomialFeatures(3), Ridge()) #Cubic\n",
    "# regr = make_pipeline(PolynomialFeatures(4), Ridge()) #Quartic\n",
    "# regr = make_pipeline(PolynomialFeatures(5), Ridge()) #Power of 5\n",
    "# regr = make_pipeline(PolynomialFeatures(6), Ridge()) #Power of 6\n",
    "\n",
    "\n",
    "\n",
    "regr.fit(x.reshape(-1,1), y.reshape(-1,1))   #fit the training data\n",
    "\n",
    "\n",
    "# regr = linear_model.LinearRegression()\n",
    "# regr.fit(x.reshape(-1,1), y.reshape(-1,1))   #fit the training data\n",
    "\n",
    "\n",
    "sk_pred = regr.predict(x_te.reshape(-1,1))   #predict the test data\n",
    "\n",
    "plt.plot(np.array(x_te),np.array(sk_pred), 'bo', label='sklearn_Predicted')\n",
    "plt.plot(np.array(x_te),np.array(y_te), 'ro', label='Actual')\n",
    "plt.legend()\n",
    "plt.show()\n",
    "\n",
    "\n",
    "sk_mse = np.mean(np.square(np.subtract(sk_pred.transpose(), y_te.transpose())))\n",
    "print sk_mse  #get mean square error for sklearn predicted output vs actual output"
   ]
  },
  {
   "cell_type": "code",
   "execution_count": null,
   "metadata": {},
   "outputs": [],
   "source": [
    ""
   ]
  }
 ],
 "metadata": {
  "kernelspec": {
   "display_name": "Python 2",
   "language": "python",
   "name": "python2"
  },
  "language_info": {
   "codemirror_mode": {
    "name": "ipython",
    "version": 2.0
   },
   "file_extension": ".py",
   "mimetype": "text/x-python",
   "name": "python",
   "nbconvert_exporter": "python",
   "pygments_lexer": "ipython2",
   "version": "2.7.11"
  }
 },
 "nbformat": 4,
 "nbformat_minor": 0
}