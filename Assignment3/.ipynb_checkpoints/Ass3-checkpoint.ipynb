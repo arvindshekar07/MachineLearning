{
 "cells": [
  {
   "cell_type": "code",
   "execution_count": 23,
   "metadata": {
    "collapsed": false
   },
   "outputs": [],
   "source": [
    "# all imports\n",
    "%matplotlib inline\n",
    "# from numpy\n",
    "from numpy import log\n",
    "import numpy as np\n",
    "from numpy.linalg import inv\n",
    "from numpy.linalg import det\n",
    "\n",
    "# from scipy\n",
    "import scipy as sc\n",
    "\n",
    "# from sklearn\n",
    "import sklearn\n",
    "from sklearn.metrics import precision_recall_curve\n",
    "from sklearn.naive_bayes import BernoulliNB\n",
    "from sklearn.naive_bayes import MultinomialNB\n",
    "from sklearn import datasets, linear_model\n",
    "from sklearn.cross_validation import KFold    \n",
    "from sklearn import metrics\n",
    "from sklearn.metrics import mean_squared_error\n",
    "from sklearn.metrics import confusion_matrix\n",
    "from sklearn.metrics import accuracy_score\n",
    "from sklearn.preprocessing import PolynomialFeatures\n",
    "from sklearn.cross_validation import train_test_split #  this is used for cross validation \n",
    "from sklearn.discriminant_analysis import LinearDiscriminantAnalysis \n",
    "#LOGESTIC REGRESSION\n",
    "from sklearn.linear_model import LogisticRegression\n",
    "# THIS IS FOR THE DISPLAY\n",
    "from numpy import loadtxt, where\n",
    "from pylab import scatter, show, legend, xlabel, ylabel\n",
    "\n",
    "# from pandas\n",
    "import pandas as pd\n",
    "\n",
    "#from matplot\n",
    "import matplotlib.pyplot as plt\n",
    "import matplotlib \n",
    "\n",
    "# regular python imports\n",
    "import math\n",
    "from math import exp\n",
    "import collections # this is used to perform the collection  based sorting  and unique element identification\n",
    "from functools import partial # this is to accomdate partials\n",
    "import random\n",
    "import os\n",
    "import re"
   ]
  },
  {
   "cell_type": "code",
   "execution_count": 24,
   "metadata": {
    "collapsed": false
   },
   "outputs": [],
   "source": [
    "class TestMetrics:\n",
    "    \n",
    "    def setData(self,y_test,y_pred_class):\n",
    "            self.y_test = y_test\n",
    "            self.y_pred_class = y_pred_class\n",
    "    def getMatrics(self):\n",
    "        # save confusion matrix and slice into four pieces\n",
    "        confusion = metrics.confusion_matrix(self.y_test, self.y_pred_class)\n",
    "#       print \"confusion matrix:\",confusion\n",
    "        TP = confusion[1, 1]\n",
    "        TN = confusion[0, 0]\n",
    "        FP = confusion[0, 1]\n",
    "        FN = confusion[1, 0]\n",
    "        if math.isnan(TP):\n",
    "            print \"tp is nan\"\n",
    "            TP = 0\n",
    "        if math.isnan(TN):\n",
    "            print \"tn is nan\"\n",
    "            TN = 0\n",
    "        if math.isnan(FP):\n",
    "            print \"fp is nan\"\n",
    "            FP = 0\n",
    "        if math.isnan(FN):\n",
    "            print \" is nan\"\n",
    "            FN = 0       \n",
    "\n",
    "        #Classification Accuracy: Overall, how often is the classifier correct?\n",
    "        #Classification_Accuracy = (TP + TN) / float(TP + TN + FP + FN)\n",
    "        Classification_Accuracy = metrics.accuracy_score(self.y_test, self.y_pred_class)\n",
    "        #print \"#Classification Accuracy:\\t\",Classification_Accuracy\n",
    "       \n",
    "        #Classification Error: Overall, how often is the classifier incorrect?\n",
    "        #Classification_Error = (FP + FN) / float(TP + TN + FP + FN)\n",
    "        Classification_Error =  1 - metrics.accuracy_score(self.y_test, self.y_pred_class)\n",
    "        \n",
    "        #Sensitivity:\n",
    "        Sensitivity = TP / float(TP + FN)\n",
    "        #print \"#Sensitivity:\\t\",Sensitivity\n",
    "\n",
    "        Specificity = TN / float(TN + FP) \n",
    "        #print \"#Specificity:\\t\",Specificity\n",
    "        False_Positive_Rate = FP / float(TN + FP)\n",
    "        #Precision = TP / float(TP + FP)\n",
    "        Precision = metrics.precision_score(self.y_test, self.y_pred_class)\n",
    "        return TP,TN,FP,FN,Classification_Accuracy,Classification_Error,Sensitivity,Specificity,False_Positive_Rate,Precision\n",
    "#test        \n",
    "# tm  = TestMetrics()\n",
    "# tm.setData(Y,Y)\n",
    "# tm.getMatrics()"
   ]
  },
  {
   "cell_type": "code",
   "execution_count": 25,
   "metadata": {
    "collapsed": false
   },
   "outputs": [
    {
     "name": "stdout",
     "output_type": "stream",
     "text": [
      "(150L, 4L)\n",
      "(150L,)\n"
     ]
    }
   ],
   "source": [
    "# import some data to play with\n",
    "iris = datasets.load_iris()\n",
    "X = iris.data[:,:]  # we only take the first two features.\n",
    "Y = iris.target\n",
    "\n",
    "print X.shape\n",
    "print Y.shape"
   ]
  },
  {
   "cell_type": "code",
   "execution_count": 26,
   "metadata": {
    "collapsed": false
   },
   "outputs": [
    {
     "data": {
      "image/png": "[encoded data removed]",
      "text/plain": [
       "<matplotlib.figure.Figure at 0xd2d3128>"
      ]
     },
     "metadata": {},
     "output_type": "display_data"
    }
   ],
   "source": [
    "fltr = lambda classification :where(Y == classification)\n",
    "pos = fltr(1)\n",
    "#pos = where(Y == 1)\n",
    "#print \"pos\",pos\n",
    "neg = where(Y == 0)\n",
    "\n",
    "thirdClass = where(Y == 2)\n",
    "\n",
    "scatter(X[pos, 0], Y[pos], marker='o', c='b')\n",
    "scatter(X[neg, 0], Y[neg], marker='x', c='r')\n",
    "scatter(X[thirdClass, 0], Y[thirdClass], marker='+', c='y')\n",
    "xlabel('x axis')\n",
    "ylabel('y axis')\n",
    "legend(['class 1', 'class 2'])\n",
    "show()"
   ]
  },
  {
   "cell_type": "markdown",
   "metadata": {
    "collapsed": true
   },
   "source": [
    "# Arvind Notes\n",
    "## there are a set of rules and assumption that I am making \n",
    "-  the X is a col vector and Y is a list\n",
    "-  I am using polynomial feature to create a matrix with appending one . For now my assumpition is that the degree is to be mainitained to is one\n"
   ]
  },
  {
   "cell_type": "markdown",
   "metadata": {},
   "source": [
    "### LOGESTIC REGRESSION  FOR TWO-CLASS DISCRIMINATION\n"
   ]
  },
  {
   "cell_type": "code",
   "execution_count": 21,
   "metadata": {
    "collapsed": false
   },
   "outputs": [],
   "source": [
    "\n",
    "\n",
    "\n",
    "sigmoid = lambda inputVar: 1.0/(exp(-1.0 *inputVar)+1.0) #multiplying by -1 to change the axis derection ;SIGMOID THAT IS BEEN DEFINED | THIS RETURNS A SCALAR\n",
    "\n",
    "hypothesis = lambda thetaVal ,Xval : sigmoid(float(np.dot(thetaVal.T,Xval)))\n",
    "\n",
    "costFunction = lambda thetaVal,ZVal,YVal : model(thetaVal,Zval)- YVal\n",
    "\n",
    "numberOfClasses lambda yVal : set(yVal)\n",
    "\n",
    "\n",
    "#print sigmoid(11) # this is to test\n",
    "class LogesticRegressionSelf:\n",
    "    \n",
    "    def setup(self):\n",
    "        #defining initial parameter\n",
    "        self.alpha=0.0001\n",
    "        self.numIterations=4000\n",
    "        self.degree = 1\n",
    "\n",
    "        self.xrow,self.xcol = self.xlist.show() # getting number of rows and cols in x matrix\n",
    "        self.Z = PolynomialFeatures(self.degree).fit_transform(self.xlist) #Creating the z matrix\n",
    "        self.zrow,self.zcol = self.Z.show() # getting the rows an cols for the z matrix\n",
    "\n",
    "    \n",
    "    def fit(self,xlist,ylist):\n",
    "        self.xlist  = xlist\n",
    "        self.ylist  = ylist\n",
    "        self.setup()\n",
    "    \n",
    "    def predict(self,getList):\n",
    "        print \"you are in the predict list\"\n",
    "    \n",
    "    def gradient_descent_2(self,alpha, x, y, numIterations):\n",
    "        alpha = self.alpha\n",
    "        numIterations = slef.numIterations\n",
    "        m = len(xdata[0]) # number of samples\n",
    "        theta = np.ones(len(xdata)+1)\n",
    "        x_transpose = x\n",
    "        for iter in range(0, numIterations):\n",
    "            hypothesis = np.dot(x, theta)\n",
    "            loss = hypothesis - y\n",
    "            J = np.sum(l.oss ** 2) / (2 * m)  # cost\n",
    "            gradient = np.dot(x_transpose, loss) / m         \n",
    "            theta = theta - alpha * gradient  # update\n",
    "        return theta"
   ]
  },
  {
   "cell_type": "code",
   "execution_count": 31,
   "metadata": {
    "collapsed": false,
    "scrolled": true
   },
   "outputs": [
    {
     "name": "stdout",
     "output_type": "stream",
     "text": [
      "[0, 0, 0, 0, 0, 0, 0, 0, 1, 1]\n",
      "[0, 0, 0, 0, 0, 1, 1, 1, 1, 1]\n",
      "[0, 0, 0, 0, 1, 1, 1, 1, 1, 1]\n",
      "[0, 0, 0, 0, 0, 1, 1, 1, 1, 1]\n",
      "[0, 0, 0, 0, 0, 0, 1, 1, 1, 1]\n",
      "[0, 0, 0, 1, 1, 1, 1, 1, 1, 1]\n",
      "[0, 0, 0, 0, 0, 0, 1, 1, 1, 1]\n",
      "[0, 0, 0, 0, 0, 0, 1, 1, 1, 1]\n",
      "[0, 0, 0, 1, 1, 1, 1, 1, 1, 1]\n",
      "[0, 0, 0, 0, 1, 1, 1, 1, 1, 1]\n",
      "sklearn\n",
      "   Accuracy  Error  FN  FP  False_Positive_Rate  Precision  Sensitivity  \\\n",
      "0       0.3    0.7   0   7             0.875000   0.222222          1.0   \n",
      "1       0.8    0.2   2   0             0.000000   1.000000          0.6   \n",
      "2       1.0    0.0   0   0             0.000000   1.000000          1.0   \n",
      "3       0.9    0.1   0   1             0.200000   0.833333          1.0   \n",
      "4       0.8    0.2   0   2             0.333333   0.666667          1.0   \n",
      "\n",
      "   Specificity  TN  TP  \n",
      "0     0.125000   1   2  \n",
      "1     1.000000   5   3  \n",
      "2     1.000000   4   6  \n",
      "3     0.800000   4   5  \n",
      "4     0.666667   4   4  \n"
     ]
    },
    {
     "data": {
      "image/png": "[encoded data removed]",
      "text/plain": [
       "<matplotlib.figure.Figure at 0xc83e1d0>"
      ]
     },
     "metadata": {},
     "output_type": "display_data"
    }
   ],
   "source": [
    "X_1D = X[:100,:1]# this is to take one feature and first 100 data sets\n",
    "Y_1D = Y [:100] # this is to take 1st 100 data sets\n",
    "'''  tip and notes\n",
    "    x row vector where your output is [[],[],[]]\n",
    "    y is list []\n",
    "'''\n",
    "\n",
    "matricsTotal = []\n",
    "ld_matricsTotal = []\n",
    "kf = sklearn.cross_validation.KFold(n=len(Y_1D), n_folds=10, shuffle=True,random_state=5)\n",
    "for train_index, test_index in kf:\n",
    "    X_train, X_test =[list(X_1D[a]) for a  in train_index],[list(X_1D[a]) for a  in test_index]\n",
    "    Y_train, Y_test = [Y_1D[a] for a  in train_index],[Y_1D[a] for a  in test_index]\n",
    "\n",
    "#     grad =  GDA1D2C()\n",
    "#     grad.fit(X_train,Y_train)\n",
    "#     predicted_Y_values = grad.predict(X_test)\n",
    "#     #self\n",
    "    \n",
    "#     tm  = TestMetrics()\n",
    "#     tm.setData(Y_test,predicted_Y_values)\n",
    "#     TP,TN,FP,FN,Classification_Accuracy,Classification_Error,Sensitivity,Specificity,False_Positive_Rate,Precision =  tm.getMatrics()\n",
    "#     matricsTotal.append({\"TP\":TP,\"TN\":TN,\"FP\":FP,\"FN\":FN,\"Accuracy\":Classification_Accuracy,\"Error\":Classification_Error,\"Sensitivity\":Sensitivity,\"Specificity\":Specificity,\"False_Positive_Rate\":False_Positive_Rate,\"Precision\":Precision})\n",
    "    \n",
    "    ### sklearn test \n",
    "    ld_grad =   LogisticRegression()\n",
    "    ld_grad.fit(X_train,Y_train)\n",
    "    ld_predicted_Y_values = ld_grad.predict(X_test)\n",
    "    \n",
    "    ld_tm  = TestMetrics()\n",
    "    ld_tm.setData(Y_test,ld_predicted_Y_values)\n",
    "    TP,TN,FP,FN,Classification_Accuracy,Classification_Error,Sensitivity,Specificity,False_Positive_Rate,Precision =  ld_tm.getMatrics()\n",
    "    ld_matricsTotal.append({\"TP\":TP,\"TN\":TN,\"FP\":FP,\"FN\":FN,\"Accuracy\":Classification_Accuracy,\"Error\":Classification_Error,\"Sensitivity\":Sensitivity,\"Specificity\":Specificity,\"False_Positive_Rate\":False_Positive_Rate,\"Precision\":Precision})\n",
    " \n",
    "    \n",
    "    \n",
    "\n",
    "matplotlib.style.use('ggplot')\n",
    "\n",
    "# print \"self Implementation\"\n",
    "# df = pd.DataFrame(matricsTotal).head()\n",
    "# #df.plot.figure(figsize=(50,50))\n",
    "# df.plot(kind = 'bar',figsize =(10 ,10),stacked = False)\n",
    "# print df\n",
    "\n",
    "print \"sklearn\"\n",
    "ld_df = pd.DataFrame(ld_matricsTotal).head()\n",
    "ld_df.plot(kind = 'bar',figsize =(10 ,10),stacked = False)\n",
    "print ld_df"
   ]
  },
  {
   "cell_type": "markdown",
   "metadata": {},
   "source": [
    "### LOGESTIC REGRESSION  FOR NON LINEAR COMBINATION OF INPUTS"
   ]
  },
  {
   "cell_type": "code",
   "execution_count": 10,
   "metadata": {
    "collapsed": false,
    "scrolled": true
   },
   "outputs": [
    {
     "name": "stdout",
     "output_type": "stream",
     "text": [
      "sklearn\n",
      "   Accuracy  Error  FN  FP  False_Positive_Rate  Precision  Sensitivity  \\\n",
      "0         1      0   0   0                    0          1            1   \n",
      "1         1      0   0   0                    0          1            1   \n",
      "2         1      0   0   0                    0          1            1   \n",
      "3         1      0   0   0                    0          1            1   \n",
      "4         1      0   0   0                    0          1            1   \n",
      "\n",
      "   Specificity  TN  TP  \n",
      "0            1   8   2  \n",
      "1            1   5   5  \n",
      "2            1   4   6  \n",
      "3            1   5   5  \n",
      "4            1   6   4  \n"
     ]
    },
    {
     "data": {
      "image/png": "[encoded data removed]",
      "text/plain": [
       "<matplotlib.figure.Figure at 0xb500390>"
      ]
     },
     "metadata": {},
     "output_type": "display_data"
    }
   ],
   "source": [
    "X_1D = X[:100,:]# this is to take one feature and first 100 data sets\n",
    "Y_1D = Y [:100] # this is to take 1st 100 data sets\n",
    "\n",
    "\n",
    "matricsTotal = []\n",
    "ld_matricsTotal = []\n",
    "kf = sklearn.cross_validation.KFold(n=len(Y_1D), n_folds=10, shuffle=True,random_state=5)\n",
    "for train_index, test_index in kf:\n",
    "    X_train, X_test =[list(X_1D[a]) for a  in train_index],[list(X_1D[a]) for a  in test_index]\n",
    "    Y_train, Y_test = [Y_1D[a] for a  in train_index],[Y_1D[a] for a  in test_index]\n",
    "\n",
    "#     grad =  GDA1D2C()\n",
    "#     grad.fit(X_train,Y_train)\n",
    "#     predicted_Y_values = grad.predict(X_test)\n",
    "#     #self\n",
    "    \n",
    "#     tm  = TestMetrics()\n",
    "#     tm.setData(Y_test,predicted_Y_values)\n",
    "#     TP,TN,FP,FN,Classification_Accuracy,Classification_Error,Sensitivity,Specificity,False_Positive_Rate,Precision =  tm.getMatrics()\n",
    "#     matricsTotal.append({\"TP\":TP,\"TN\":TN,\"FP\":FP,\"FN\":FN,\"Accuracy\":Classification_Accuracy,\"Error\":Classification_Error,\"Sensitivity\":Sensitivity,\"Specificity\":Specificity,\"False_Positive_Rate\":False_Positive_Rate,\"Precision\":Precision})\n",
    "    \n",
    "    ### sklearn test \n",
    "    ld_grad =   LogisticRegression()\n",
    "    ld_grad.fit(X_train,Y_train)\n",
    "    ld_predicted_Y_values = ld_grad.predict(X_test)\n",
    "    \n",
    "    ld_tm  = TestMetrics()\n",
    "    ld_tm.setData(Y_test,ld_predicted_Y_values)\n",
    "    TP,TN,FP,FN,Classification_Accuracy,Classification_Error,Sensitivity,Specificity,False_Positive_Rate,Precision =  ld_tm.getMatrics()\n",
    "    ld_matricsTotal.append({\"TP\":TP,\"TN\":TN,\"FP\":FP,\"FN\":FN,\"Accuracy\":Classification_Accuracy,\"Error\":Classification_Error,\"Sensitivity\":Sensitivity,\"Specificity\":Specificity,\"False_Positive_Rate\":False_Positive_Rate,\"Precision\":Precision})\n",
    " \n",
    "    \n",
    "    \n",
    "\n",
    "matplotlib.style.use('ggplot')\n",
    "\n",
    "# print \"self Implementation\"\n",
    "# df = pd.DataFrame(matricsTotal).head()\n",
    "# #df.plot.figure(figsize=(50,50))\n",
    "# df.plot(kind = 'bar',figsize =(10 ,10),stacked = False)\n",
    "# print df\n",
    "\n",
    "print \"sklearn\"\n",
    "ld_df = pd.DataFrame(ld_matricsTotal).head()\n",
    "ld_df.plot(kind = 'bar',figsize =(10 ,10),stacked = False)\n",
    "print ld_df"
   ]
  },
  {
   "cell_type": "markdown",
   "metadata": {},
   "source": [
    "### LOGESTIC REGRESSION  FOR k CLASS DISCRIMINATION"
   ]
  },
  {
   "cell_type": "code",
   "execution_count": 11,
   "metadata": {
    "collapsed": false,
    "scrolled": true
   },
   "outputs": [
    {
     "name": "stdout",
     "output_type": "stream",
     "text": [
      "sklearn\n",
      "   Accuracy     Error  FN  FP  False_Positive_Rate  Precision  Sensitivity  \\\n",
      "0  0.733333  0.266667   0   0                    0   0.738889            1   \n",
      "1  1.000000  0.000000   0   0                    0   1.000000            1   \n",
      "2  1.000000  0.000000   0   0                    0   1.000000            1   \n",
      "3  1.000000  0.000000   0   0                    0   1.000000            1   \n",
      "4  0.933333  0.066667   0   0                    0   0.944444            1   \n",
      "\n",
      "   Specificity  TN  TP  \n",
      "0            1   4   2  \n",
      "1            1   4   6  \n",
      "2            1   7   5  \n",
      "3            1   5   5  \n",
      "4            1   2   7  \n"
     ]
    },
    {
     "name": "stderr",
     "output_type": "stream",
     "text": [
      "C:\\Anaconda2\\lib\\site-packages\\sklearn\\metrics\\classification.py:1203: DeprecationWarning: The default `weighted` averaging is deprecated, and from version 0.18, use of precision, recall or F-score with multiclass or multilabel data or pos_label=None will result in an exception. Please set an explicit value for `average`, one of (None, 'micro', 'macro', 'weighted', 'samples'). In cross validation use, for instance, scoring=\"f1_weighted\" instead of scoring=\"f1\".\n",
      "  sample_weight=sample_weight)\n",
      "C:\\Anaconda2\\lib\\site-packages\\sklearn\\metrics\\classification.py:1203: DeprecationWarning: The default `weighted` averaging is deprecated, and from version 0.18, use of precision, recall or F-score with multiclass or multilabel data or pos_label=None will result in an exception. Please set an explicit value for `average`, one of (None, 'micro', 'macro', 'weighted', 'samples'). In cross validation use, for instance, scoring=\"f1_weighted\" instead of scoring=\"f1\".\n",
      "  sample_weight=sample_weight)\n",
      "C:\\Anaconda2\\lib\\site-packages\\sklearn\\metrics\\classification.py:1203: DeprecationWarning: The default `weighted` averaging is deprecated, and from version 0.18, use of precision, recall or F-score with multiclass or multilabel data or pos_label=None will result in an exception. Please set an explicit value for `average`, one of (None, 'micro', 'macro', 'weighted', 'samples'). In cross validation use, for instance, scoring=\"f1_weighted\" instead of scoring=\"f1\".\n",
      "  sample_weight=sample_weight)\n",
      "C:\\Anaconda2\\lib\\site-packages\\sklearn\\metrics\\classification.py:1203: DeprecationWarning: The default `weighted` averaging is deprecated, and from version 0.18, use of precision, recall or F-score with multiclass or multilabel data or pos_label=None will result in an exception. Please set an explicit value for `average`, one of (None, 'micro', 'macro', 'weighted', 'samples'). In cross validation use, for instance, scoring=\"f1_weighted\" instead of scoring=\"f1\".\n",
      "  sample_weight=sample_weight)\n",
      "C:\\Anaconda2\\lib\\site-packages\\sklearn\\metrics\\classification.py:1203: DeprecationWarning: The default `weighted` averaging is deprecated, and from version 0.18, use of precision, recall or F-score with multiclass or multilabel data or pos_label=None will result in an exception. Please set an explicit value for `average`, one of (None, 'micro', 'macro', 'weighted', 'samples'). In cross validation use, for instance, scoring=\"f1_weighted\" instead of scoring=\"f1\".\n",
      "  sample_weight=sample_weight)\n",
      "C:\\Anaconda2\\lib\\site-packages\\sklearn\\metrics\\classification.py:1203: DeprecationWarning: The default `weighted` averaging is deprecated, and from version 0.18, use of precision, recall or F-score with multiclass or multilabel data or pos_label=None will result in an exception. Please set an explicit value for `average`, one of (None, 'micro', 'macro', 'weighted', 'samples'). In cross validation use, for instance, scoring=\"f1_weighted\" instead of scoring=\"f1\".\n",
      "  sample_weight=sample_weight)\n",
      "C:\\Anaconda2\\lib\\site-packages\\sklearn\\metrics\\classification.py:1203: DeprecationWarning: The default `weighted` averaging is deprecated, and from version 0.18, use of precision, recall or F-score with multiclass or multilabel data or pos_label=None will result in an exception. Please set an explicit value for `average`, one of (None, 'micro', 'macro', 'weighted', 'samples'). In cross validation use, for instance, scoring=\"f1_weighted\" instead of scoring=\"f1\".\n",
      "  sample_weight=sample_weight)\n",
      "C:\\Anaconda2\\lib\\site-packages\\sklearn\\metrics\\classification.py:1203: DeprecationWarning: The default `weighted` averaging is deprecated, and from version 0.18, use of precision, recall or F-score with multiclass or multilabel data or pos_label=None will result in an exception. Please set an explicit value for `average`, one of (None, 'micro', 'macro', 'weighted', 'samples'). In cross validation use, for instance, scoring=\"f1_weighted\" instead of scoring=\"f1\".\n",
      "  sample_weight=sample_weight)\n",
      "C:\\Anaconda2\\lib\\site-packages\\sklearn\\metrics\\classification.py:1203: DeprecationWarning: The default `weighted` averaging is deprecated, and from version 0.18, use of precision, recall or F-score with multiclass or multilabel data or pos_label=None will result in an exception. Please set an explicit value for `average`, one of (None, 'micro', 'macro', 'weighted', 'samples'). In cross validation use, for instance, scoring=\"f1_weighted\" instead of scoring=\"f1\".\n",
      "  sample_weight=sample_weight)\n",
      "C:\\Anaconda2\\lib\\site-packages\\sklearn\\metrics\\classification.py:1203: DeprecationWarning: The default `weighted` averaging is deprecated, and from version 0.18, use of precision, recall or F-score with multiclass or multilabel data or pos_label=None will result in an exception. Please set an explicit value for `average`, one of (None, 'micro', 'macro', 'weighted', 'samples'). In cross validation use, for instance, scoring=\"f1_weighted\" instead of scoring=\"f1\".\n",
      "  sample_weight=sample_weight)\n"
     ]
    },
    {
     "data": {
      "image/png": "[encoded data removed]",
      "text/plain": [
       "<matplotlib.figure.Figure at 0xcf728d0>"
      ]
     },
     "metadata": {},
     "output_type": "display_data"
    }
   ],
   "source": [
    "X_1D = X[:,:]# this is to take one feature and first 100 data sets\n",
    "Y_1D = Y [:] # this is to take 1st 100 data sets\n",
    "\n",
    "\n",
    "matricsTotal = []\n",
    "ld_matricsTotal = []\n",
    "kf = sklearn.cross_validation.KFold(n=len(Y_1D), n_folds=10, shuffle=True,random_state=5)\n",
    "for train_index, test_index in kf:\n",
    "    X_train, X_test =[list(X_1D[a]) for a  in train_index],[list(X_1D[a]) for a  in test_index]\n",
    "    Y_train, Y_test = [Y_1D[a] for a  in train_index],[Y_1D[a] for a  in test_index]\n",
    "\n",
    "#     grad =  GDA1D2C()\n",
    "#     grad.fit(X_train,Y_train)\n",
    "#     predicted_Y_values = grad.predict(X_test)\n",
    "#     #self\n",
    "    \n",
    "#     tm  = TestMetrics()\n",
    "#     tm.setData(Y_test,predicted_Y_values)\n",
    "#     TP,TN,FP,FN,Classification_Accuracy,Classification_Error,Sensitivity,Specificity,False_Positive_Rate,Precision =  tm.getMatrics()\n",
    "#     matricsTotal.append({\"TP\":TP,\"TN\":TN,\"FP\":FP,\"FN\":FN,\"Accuracy\":Classification_Accuracy,\"Error\":Classification_Error,\"Sensitivity\":Sensitivity,\"Specificity\":Specificity,\"False_Positive_Rate\":False_Positive_Rate,\"Precision\":Precision})\n",
    "    \n",
    "    ### sklearn test \n",
    "    ld_grad =   LogisticRegression()\n",
    "    ld_grad.fit(X_train,Y_train)\n",
    "    ld_predicted_Y_values = ld_grad.predict(X_test)\n",
    "    \n",
    "    ld_tm  = TestMetrics()\n",
    "    ld_tm.setData(Y_test,ld_predicted_Y_values)\n",
    "    TP,TN,FP,FN,Classification_Accuracy,Classification_Error,Sensitivity,Specificity,False_Positive_Rate,Precision =  ld_tm.getMatrics()\n",
    "    ld_matricsTotal.append({\"TP\":TP,\"TN\":TN,\"FP\":FP,\"FN\":FN,\"Accuracy\":Classification_Accuracy,\"Error\":Classification_Error,\"Sensitivity\":Sensitivity,\"Specificity\":Specificity,\"False_Positive_Rate\":False_Positive_Rate,\"Precision\":Precision})\n",
    " \n",
    "    \n",
    "    \n",
    "\n",
    "matplotlib.style.use('ggplot')\n",
    "\n",
    "# print \"self Implementation\"\n",
    "# df = pd.DataFrame(matricsTotal).head()\n",
    "# #df.plot.figure(figsize=(50,50))\n",
    "# df.plot(kind = 'bar',figsize =(10 ,10),stacked = False)\n",
    "# print df\n",
    "\n",
    "print \"sklearn\"\n",
    "ld_df = pd.DataFrame(ld_matricsTotal).head()\n",
    "ld_df.plot(kind = 'bar',figsize =(10 ,10),stacked = False)\n",
    "print ld_df"
   ]
  },
  {
   "cell_type": "code",
   "execution_count": null,
   "metadata": {
    "collapsed": true
   },
   "outputs": [],
   "source": []
  }
 ],
 "metadata": {
  "kernelspec": {
   "display_name": "Python 2",
   "language": "python",
   "name": "python2"
  },
  "language_info": {
   "codemirror_mode": {
    "name": "ipython",
    "version": 2
   },
   "file_extension": ".py",
   "mimetype": "text/x-python",
   "name": "python",
   "nbconvert_exporter": "python",
   "pygments_lexer": "ipython2",
   "version": "2.7.11"
  }
 },
 "nbformat": 4,
 "nbformat_minor": 0
}
