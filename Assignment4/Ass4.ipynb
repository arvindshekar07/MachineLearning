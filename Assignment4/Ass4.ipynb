{
 "cells": [
  {
   "cell_type": "code",
   "execution_count": 63,
   "metadata": {
    "collapsed": false
   },
   "outputs": [],
   "source": [
    "# all imports\n",
    "%matplotlib inline\n",
    "import sys\n",
    "\n",
    "# THESE ARE FORM THE DATA SOUCE\n",
    "from prep_terrain_data import makeTerrainData\n",
    "\n",
    "import copy\n",
    "\n",
    "import pylab as pl\n",
    "\n",
    "# from numpy\n",
    "from numpy import log\n",
    "import numpy as np\n",
    "from numpy.linalg import inv\n",
    "from numpy.linalg import det\n",
    "\n",
    "# from scipy\n",
    "import scipy as sc\n",
    "\n",
    "# from sklearn\n",
    "import sklearn\n",
    "from sklearn.metrics import precision_recall_curve\n",
    "from sklearn.naive_bayes import BernoulliNB\n",
    "from sklearn.naive_bayes import MultinomialNB\n",
    "from sklearn import datasets, linear_model\n",
    "from sklearn.cross_validation import KFold    \n",
    "from sklearn import metrics\n",
    "from sklearn.metrics import mean_squared_error\n",
    "from sklearn.metrics import confusion_matrix\n",
    "from sklearn.metrics import accuracy_score\n",
    "from sklearn.preprocessing import PolynomialFeatures\n",
    "from sklearn.cross_validation import train_test_split #  this is used for cross validation \n",
    "from sklearn.discriminant_analysis import LinearDiscriminantAnalysis \n",
    "from sklearn import linear_model\n",
    "#SUPPORT VECTOR MACHINES\n",
    "from sklearn import svm\n",
    "\n",
    "# THIS IS FOR THE DISPLAY\n",
    "from numpy import loadtxt, where\n",
    "from pylab import scatter, show, legend, xlabel, ylabel\n",
    "\n",
    "# from pandas\n",
    "import pandas as pd\n",
    "\n",
    "#from matplot\n",
    "import matplotlib.pyplot as plt\n",
    "import matplotlib \n",
    "\n",
    "# regular python imports\n",
    "import math\n",
    "\n",
    "from math import exp\n",
    "import collections # this is used to perform the collection  based sorting  and unique element identification\n",
    "from functools import partial # this is to accomdate partials\n",
    "import random\n",
    "import os\n",
    "import re"
   ]
  },
  {
   "cell_type": "code",
   "execution_count": 64,
   "metadata": {
    "collapsed": false
   },
   "outputs": [
    {
     "name": "stdout",
     "output_type": "stream",
     "text": [
      "non seperable data plot:\n",
      "features_train (750L, 2L)\n",
      "labels_train (750L,)\n"
     ]
    },
    {
     "data": {
      "image/png": "[encoded data removed]",
      "text/plain": [
       "<matplotlib.figure.Figure at 0x1fd89898>"
      ]
     },
     "metadata": {},
     "output_type": "display_data"
    },
    {
     "data": {
      "image/png": "[encoded data removed]",
      "text/plain": [
       "<matplotlib.figure.Figure at 0x1f7e10b8>"
      ]
     },
     "metadata": {},
     "output_type": "display_data"
    },
    {
     "name": "stdout",
     "output_type": "stream",
     "text": [
      "(100L, 1L)\n",
      "(100L,)\n"
     ]
    }
   ],
   "source": [
    "'''\n",
    "Question 1> create a seperable and non seperable data set\n",
    "this is to create a non seperable data set\n",
    "'''\n",
    "print \"non seperable data plot:\"\n",
    "features_train, labels_train, features_test, labels_test = makeTerrainData()\n",
    "\n",
    "grade_fast = [features_train[ii][0] for ii in range(0, len(features_train)) if labels_train[ii]==0]\n",
    "bumpy_fast = [features_train[ii][1] for ii in range(0, len(features_train)) if labels_train[ii]==0]\n",
    "grade_slow = [features_train[ii][0] for ii in range(0, len(features_train)) if labels_train[ii]==1]\n",
    "bumpy_slow = [features_train[ii][1] for ii in range(0, len(features_train)) if labels_train[ii]==1]\n",
    "\n",
    "print \"features_train\" ,np.array(features_train).shape\n",
    "print \"labels_train\",np.array(labels_train).shape\n",
    "\n",
    "#### initial visualization\n",
    "plt.xlim(0.0, 1.0)\n",
    "plt.ylim(0.0, 1.0)\n",
    "plt.scatter(bumpy_fast, grade_fast, color = \"b\", label=\"fast\")\n",
    "plt.scatter(grade_slow, bumpy_slow, color = \"r\", label=\"slow\")\n",
    "plt.legend()\n",
    "plt.xlabel(\"bumpiness\")\n",
    "plt.ylabel(\"grade\")\n",
    "plt.show()\n",
    "\n",
    "'''\n",
    " viewing the seperable data plot\n",
    "  here you are uing the iris data set to create a seperable dataset\n",
    "'''\n",
    "# import some data to play with\n",
    "iris = datasets.load_iris()\n",
    "X = iris.data[:100,:1] \n",
    "Y = iris.target[:100]\n",
    "\n",
    "class1Index = np.where(Y==0)\n",
    "class2Index = np.where(Y==1)\n",
    "plt.scatter(X[class1Index], Y[class1Index], color = \"b\", label=\"class 1\")\n",
    "plt.scatter(X[class2Index], Y[class2Index], color = \"r\", label=\"class 2\")\n",
    "plt.legend()\n",
    "plt.xlabel(\"class 1\")\n",
    "plt.ylabel(\"class 2\")\n",
    "plt.show()\n",
    "\n",
    "print X.shape\n",
    "print Y.shape"
   ]
  },
  {
   "cell_type": "code",
   "execution_count": 65,
   "metadata": {
    "collapsed": false
   },
   "outputs": [
    {
     "name": "stdout",
     "output_type": "stream",
     "text": [
      "acc 0.92\n"
     ]
    }
   ],
   "source": [
    "features_train, labels_train, features_test, labels_test = makeTerrainData()\n",
    "\n",
    "########################## SVM #################################\n",
    "# print \"features trainied\",labels_train\n",
    "from sklearn.svm import SVC\n",
    "clf = SVC(kernel=\"linear\")\n",
    "clf.fit(features_train,labels_train)\n",
    "pred = clf.predict(features_test)\n",
    "\n",
    "\n",
    "from sklearn.metrics import accuracy_score\n",
    "acc = accuracy_score(pred, labels_test)\n",
    "\n",
    "print \"acc\",acc\n",
    "def submitAccuracy():\n",
    "    return acc"
   ]
  },
  {
   "cell_type": "code",
   "execution_count": 66,
   "metadata": {
    "collapsed": false
   },
   "outputs": [
    {
     "ename": "IndentationError",
     "evalue": "expected an indented block (<ipython-input-66-a5803bb85483>, line 8)",
     "traceback": [
      "\u001b[1;36m  File \u001b[1;32m\"<ipython-input-66-a5803bb85483>\"\u001b[1;36m, line \u001b[1;32m8\u001b[0m\n\u001b[1;33m    def get_p (self):\u001b[0m\n\u001b[1;37m      ^\u001b[0m\n\u001b[1;31mIndentationError\u001b[0m\u001b[1;31m:\u001b[0m expected an indented block\n"
     ],
     "output_type": "error"
    }
   ],
   "source": [
    "import cvxopt\n",
    "from cvxopt import solvers\n",
    "'''\n",
    "Here  you are expecting  the  y ,alpha g, h  are coloumn vector\n",
    "'''\n",
    "class SVmImpl:\n",
    "    \n",
    "    def get_Q (self,y):\n",
    "        resultVal = np.ones((y.shape[0],1))*-1\n",
    "        return resultVal\n",
    "    \n",
    "    def get_p (self):\n",
    "    zz\n",
    "    def get_G (self):\n",
    "    \n",
    "    def get_h (self):\n",
    "    \n",
    "    def get_A  (self,y):\n",
    "        resultVal = y.t\n",
    "        return resultVal\n",
    "    \n",
    "    def get_b (self):\n",
    "        resultVal = 0\n",
    "        return resultVal\n",
    "        \n",
    "    def fit(self):\n",
    "        print \" you are in the fit function\"\n",
    "        \n",
    "    def predict(self):\n",
    "        print \"you are there in the predict function\"\n",
    "    \n",
    "    \n",
    "svmImpl = SVmImpl()\n",
    "svmImpl.tester()"
   ]
  },
  {
   "cell_type": "code",
   "execution_count": 67,
   "metadata": {
    "collapsed": true
   },
   "outputs": [],
   "source": [
    "class TestMetrics:\n",
    "    \n",
    "    def setData(self,y_test,y_pred_class):\n",
    "            self.y_test = y_test\n",
    "            self.y_pred_class = y_pred_class\n",
    "    def getMatrics(self):\n",
    "        # save confusion matrix and slice into four pieces\n",
    "        confusion = metrics.confusion_matrix(self.y_test, self.y_pred_class)\n",
    "#       print \"confusion matrix:\",confusion\n",
    "        TP = confusion[1, 1]\n",
    "        TN = confusion[0, 0]\n",
    "        FP = confusion[0, 1]\n",
    "        FN = confusion[1, 0]\n",
    "        if math.isnan(TP):\n",
    "            print \"tp is nan\"\n",
    "            TP = 0\n",
    "        if math.isnan(TN):\n",
    "            print \"tn is nan\"\n",
    "            TN = 0\n",
    "        if math.isnan(FP):\n",
    "            print \"fp is nan\"\n",
    "            FP = 0\n",
    "        if math.isnan(FN):\n",
    "            print \" is nan\"\n",
    "            FN = 0       \n",
    "\n",
    "        #Classification Accuracy: Overall, how often is the classifier correct?\n",
    "        #Classification_Accuracy = (TP + TN) / float(TP + TN + FP + FN)\n",
    "        Classification_Accuracy = metrics.accuracy_score(self.y_test, self.y_pred_class)\n",
    "        #print \"#Classification Accuracy:\\t\",Classification_Accuracy\n",
    "       \n",
    "        #Classification Error: Overall, how often is the classifier incorrect?\n",
    "        #Classification_Error = (FP + FN) / float(TP + TN + FP + FN)\n",
    "        Classification_Error =  1 - metrics.accuracy_score(self.y_test, self.y_pred_class)\n",
    "        \n",
    "        #Sensitivity:\n",
    "        Sensitivity = TP / float(TP + FN)\n",
    "        #print \"#Sensitivity:\\t\",Sensitivity\n",
    "\n",
    "        Specificity = TN / float(TN + FP) \n",
    "        #print \"#Specificity:\\t\",Specificity\n",
    "        False_Positive_Rate = FP / float(TN + FP)\n",
    "        #Precision = TP / float(TP + FP)\n",
    "        Precision = metrics.precision_score(self.y_test, self.y_pred_class)\n",
    "        return TP,TN,FP,FN,Classification_Accuracy,Classification_Error,Sensitivity,Specificity,False_Positive_Rate,Precision"
   ]
  },
  {
   "cell_type": "code",
   "execution_count": 79,
   "metadata": {
    "collapsed": false
   },
   "outputs": [
    {
     "name": "stdout",
     "output_type": "stream",
     "text": [
      "(10L, 10L)\n"
     ]
    }
   ],
   "source": [
    "-1*np.ones((100,1))\n",
    "np.ones((np.array([1,2,3,4,5,6,1]).shape[0],1))*-1\n",
    "np.array([[1,2,3,4,5,6,1]]).T\n",
    "\n",
    "qwe = np.zeros((10,10)).shape\n",
    "\n",
    "print qwe"
   ]
  }
 ],
 "metadata": {
  "kernelspec": {
   "display_name": "Python 2",
   "language": "python",
   "name": "python2"
  },
  "language_info": {
   "codemirror_mode": {
    "name": "ipython",
    "version": 2.0
   },
   "file_extension": ".py",
   "mimetype": "text/x-python",
   "name": "python",
   "nbconvert_exporter": "python",
   "pygments_lexer": "ipython2",
   "version": "2.7.11"
  }
 },
 "nbformat": 4,
 "nbformat_minor": 0
}