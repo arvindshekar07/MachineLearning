{
 "cells": [
  {
   "cell_type": "markdown",
   "metadata": {},
   "source": [
    "# Assignment 2 \n",
    "- 1D 2 class Gaussian Discriminent\n",
    "- 2D 2 class Gaussian Discriminent\n",
    "- kD k class Gaussian Discriminent\n",
    "### setting all the imports\n"
   ]
  },
  {
   "cell_type": "code",
   "execution_count": null,
   "metadata": {
    "collapsed": true
   },
   "outputs": [],
   "source": []
  },
  {
   "cell_type": "code",
   "execution_count": 484,
   "metadata": {
    "collapsed": false
   },
   "outputs": [],
   "source": [
    "# all imports\n",
    "%matplotlib inline\n",
    "import os\n",
    "import numpy as np\n",
    "import matplotlib.pyplot as plt\n",
    "import matplotlib \n",
    "import pandas as pd\n",
    "import re\n",
    "from sklearn import datasets, linear_model\n",
    "from sklearn.cross_validation import KFold    \n",
    "import sklearn\n",
    "from sklearn import metrics\n",
    "from sklearn.metrics import mean_squared_error\n",
    "from sklearn.metrics import confusion_matrix\n",
    "from sklearn.metrics import accuracy_score\n",
    "from numpy.linalg import inv\n",
    "from sklearn.preprocessing import PolynomialFeatures\n",
    "import collections # this is used to perform the collection  based sorting  and unique element identification\n",
    "from sklearn.cross_validation import train_test_split #  this is used for cross validation \n",
    "from functools import partial # this is to accomdate partials\n",
    "import random\n",
    "from numpy.linalg import inv\n",
    "import math"
   ]
  },
  {
   "cell_type": "markdown",
   "metadata": {},
   "source": [
    "### This a class tha twould be used to test the data set"
   ]
  },
  {
   "cell_type": "code",
   "execution_count": 485,
   "metadata": {
    "collapsed": false
   },
   "outputs": [],
   "source": [
    "class TestMetrics:\n",
    "    \n",
    "    def setData(self,y_test,y_pred_class):\n",
    "            self.y_test = y_test\n",
    "            self.y_pred_class = y_pred_class\n",
    "            print 'True:', y_test\n",
    "            print 'Pred:', y_pred_class\n",
    "        \n",
    "    def getMatrics(self):\n",
    "        #print metrics.accuracy_score(self.y_test, self.y_pred_class)\n",
    "        # save confusion matrix and slice into four pieces\n",
    "        confusion = metrics.confusion_matrix(self.y_test, self.y_pred_class)\n",
    "#         print \"confusion matrix:\",confusion\n",
    "        TP = confusion[1, 1]\n",
    "        TN = confusion[0, 0]\n",
    "        FP = confusion[0, 1]\n",
    "        FN = confusion[1, 0]\n",
    "        if math.isnan(TP):\n",
    "            print \"tp is nan\"\n",
    "            TP = 0;\n",
    "        if math.isnan(TN):\n",
    "            print \"tn is nan\"\n",
    "            TN = 0;\n",
    "        if math.isnan(FP):\n",
    "            print \"fp is nan\"\n",
    "            FP = 0;\n",
    "        if math.isnan(FN):\n",
    "            print \" is nan\"\n",
    "            FN = 0;            \n",
    "            \n",
    "            \n",
    "        #Classification Accuracy: Overall, how often is the classifier correct?\n",
    "        Classification_Accuracy = (TP + TN) / float(TP + TN + FP + FN)\n",
    "        #print \"#Classification Accuracy:\\t\",Classification_Accuracy\n",
    "        # print metrics.accuracy_score(y_test, y_pred_class)\n",
    "        \n",
    "        #Classification Error: Overall, how often is the classifier incorrect?\n",
    "        #Classification_Error = (FP + FN) / float(TP + TN + FP + FN)\n",
    "        #print \"#Classification Error:\\t\",Classification_Error\n",
    "        Classification_Error =  1 - metrics.accuracy_score(y_test, y_pred_class)\n",
    "        \n",
    "        #Sensitivity:\n",
    "        Sensitivity = TP / float(TP + FN)\n",
    "        #print \"#Sensitivity:\\t\",Sensitivity\n",
    "        #print metrics.recall_score(y_test, y_pred_class)\n",
    "        #Specificity: \n",
    "        Specificity = TN / float(TN + FP) \n",
    "        #print \"#Specificity:\\t\",Specificity\n",
    "        #False Positive Rate:\n",
    "        False_Positive_Rate = FP / float(TN + FP)\n",
    "        #print \"#False Positive Rate:\",False_Positive_Rate\n",
    "        #Precision: \n",
    "        #Precision = TP / float(TP + FP)\n",
    "        Precision = metrics.precision_score(self.y_test, self.y_pred_class)\n",
    "        #print \"#Precision:\\t\",Precision\n",
    "        #print metrics.precision_score(y_test, y_pred_class)\n",
    "        #print TP,TN,FP,FN,Classification_Accuracy,Classification_Error,Sensitivity,Specificity,False_Positive_Rate,Precision\n",
    "        return TP,TN,FP,FN,Classification_Accuracy,Classification_Error,Sensitivity,Specificity,False_Positive_Rate,Precision\n",
    "#test        \n",
    "# tm  = TestMetrics()\n",
    "# tm.setData(Y,Y)\n",
    "# tm.getMatrics()"
   ]
  },
  {
   "cell_type": "code",
   "execution_count": 486,
   "metadata": {
    "collapsed": false
   },
   "outputs": [
    {
     "name": "stdout",
     "output_type": "stream",
     "text": [
      "[0 0 0 0 0 0 0 0 0 0 0 0 0 0 0 0 0 0 0 0 0 0 0 0 0 0 0 0 0 0 0 0 0 0 0 0 0\n",
      " 0 0 0 0 0 0 0 0 0 0 0 0 0 1 1 1 1 1 1 1 1 1 1 1 1 1 1 1 1 1 1 1 1 1 1 1 1\n",
      " 1 1 1 1 1 1 1 1 1 1 1 1 1 1 1 1 1 1 1 1 1 1 1 1 1 1 2 2 2 2 2 2 2 2 2 2 2\n",
      " 2 2 2 2 2 2 2 2 2 2 2 2 2 2 2 2 2 2 2 2 2 2 2 2 2 2 2 2 2 2 2 2 2 2 2 2 2\n",
      " 2 2]\n"
     ]
    }
   ],
   "source": [
    "# fetching all data\n",
    "\n",
    "# import some data to play with\n",
    "iris = datasets.load_iris()\n",
    "X = iris.data[:,:]  # we only take the first two features.\n",
    "Y = iris.target\n",
    "print Y\n",
    "numberOfClass = lambda listValues :list(set(listValues))# this is the number of classes in each dataset\n",
    "\n",
    "m = lambda listValues: collections.Counter(listValues)\n",
    "\n",
    "idf = lambda currentClass,itratingClass : (0,1)[currentClass == itratingClass] # this is the indicator function\n",
    "\n",
    "mean = lambda X_D,Y_D:[np.mean([idf(Y_D[rowIndex],classElement)*rowElements for rowIndex,rowElements in enumerate(X_D)if idf(Y_D[rowIndex],classElement)== 1],axis = 0) for classIndex ,classElement in enumerate(numberOfClass(Y_D))]\n",
    "\n",
    "varience =lambda X_D,Y_D:[np.var([idf(Y_D[rowIndex],classElement)*rowElements for rowIndex,rowElements in enumerate(X_D)if idf(Y_D[rowIndex],classElement)== 1],axis = 0) for classIndex ,classElement in enumerate(numberOfClass(Y_D))]\n",
    "\n",
    "alpha = lambda X_D,Y_D:[m(Y_1D)[classElement]*1.0/len(Y_D) for classElement in (numberOfClass(Y_D))]\n",
    "# this is for 1D calculation\n",
    "g = lambda x,var,mean,alpha: np.log2(alpha)- (((x-mean)**2)/2*(var**2))\n",
    "\n",
    "covVar =  lambda X_D,Y_D:[np.cov(np.asarray([list(idf(Y_D[rowIndex],classElement)*rowElements) for rowIndex,rowElements in enumerate(X_D)if idf(Y_D[rowIndex],classElement)== 1]).T) for classIndex,classElement in enumerate(numberOfClass(Y_D))]\n",
    "# this is for 2D calcultaion\n",
    "g_multiVariate = lambda x,co_var_mat,mean: ((2.0*(np.dot(np.dot(x.T,inv(co_var_mat)),mean))) - float(np.dot(np.dot(mean.T,inv(co_var_mat)),mean)))\n",
    "\n",
    "# discriminent = lambda x,a_class,b_class : (1,0)[ a_class(x) > b_class(x) ]\n",
    "# discriminent = lambda x,a_class,b_class: 1 if  a_class(x)>b_class(x) else 0                                           \n",
    "def discriminent (x, a_class, b_class):\n",
    "    sendX = (np.asarray([x])).T # sending x as a collection of rows vector\n",
    "    if (a_class(sendX)>b_class(sendX)) :\n",
    "        return 0\n",
    "    else :\n",
    "        return 1\n",
    "\n",
    "def discriminent_1 (x, a_class, b_class,c_class):\n",
    "    sendX = (np.asarray([x])).T # sending x as a collection of rows vector\n",
    "#     print \"val\",a_class(sendX)\n",
    "#     print \"val2\",b_class(sendX)\n",
    "#     print \"val3\",c_class(sendX)\n",
    "    \n",
    "    if ((a_class(sendX) > b_class(sendX)))and ((a_class(sendX)>c_class(sendX))):\n",
    "        return 0\n",
    "    elif((b_class(sendX)>c_class(sendX))>0):\n",
    "        return 1\n",
    "    else:\n",
    "        return 2\n",
    "# test \n",
    "#covVar(X,Y)\n",
    "\n"
   ]
  },
  {
   "cell_type": "code",
   "execution_count": 487,
   "metadata": {
    "collapsed": false
   },
   "outputs": [],
   "source": [
    "class GDA1D2C:\n",
    "    #this si to fit the existing data\n",
    "    def fit(self,Xdata,Ydata):\n",
    "        self.XData = Xdata\n",
    "        self.YData = Ydata\n",
    "        #step:1 - find alpha\n",
    "        self.alpha = alpha(Xdata,Ydata)\n",
    "#         print \"alpha\"\n",
    "#         print self.alpha\n",
    "        #step:2 - find mean \n",
    "        self.mean = mean(Xdata,Ydata)\n",
    "        print \"mean\",self.mean\n",
    "        #step:3 - find varience\n",
    "        self.varience = varience(Xdata,Ydata)\n",
    "        print\"varience\",self.varience\n",
    "        #step:4\n",
    "        g0 = partial(g,var = self.varience[0],mean= self.mean[0],alpha= self.alpha[0])\n",
    "        g1 = partial(g,var = self.varience[1],mean= self.mean[1],alpha= self.alpha[1])\n",
    "        #step:5\n",
    "        self.discriminent = partial(discriminent,a_class = g0, b_class = g1)\n",
    "        #self.discriminent = partial(discriminent,a_class = partial(g,varience = self.varience[0],mean= self.mean[0],alpha= self.alpha[0]), b_class = partial(g,varience = self.varience[1],mean= self.mean[1],alpha= self.alpha[1]))\n",
    "    # this is to predict y data  from the give X data\n",
    "    def predict(self,XD):\n",
    "        return [self.discriminent(xvalue) for xvalue in XD]"
   ]
  },
  {
   "cell_type": "code",
   "execution_count": 488,
   "metadata": {
    "collapsed": false
   },
   "outputs": [],
   "source": [
    "class GDAnD2C:\n",
    "    #this si to fit the existing data\n",
    "    def fit(self,Xdata,Ydata):\n",
    "        self.XData = Xdata\n",
    "        self.YData = Ydata\n",
    "    \n",
    "        #step:2 - find mean \n",
    "        self.mean = mean(Xdata,Ydata)\n",
    "        #print \"mean\",self.mean\n",
    "        \n",
    "        #step:3 - find co_varience\n",
    "        self.co_varience = covVar(Xdata,Ydata)\n",
    "        #print\"co varience matix\",self.co_varience\n",
    "        \n",
    "        #step:4\n",
    "        #print \"mean--------\", ((np.asarray([self.mean[0]])).T).shape\n",
    "        \n",
    "        ## sending the mean as transposed\n",
    "        self.g0 = partial(g_multiVariate,co_var_mat = self.co_varience[0],mean= (np.asarray([self.mean[0]])).T)\n",
    "        self.g1 = partial(g_multiVariate,co_var_mat = self.co_varience[1],mean= (np.asarray([self.mean[1]])).T)\n",
    "        #step:5\n",
    "        self.discriminent = partial(discriminent,a_class = self.g0, b_class = self.g1)\n",
    "        #self.discriminent = partial(discriminent,a_class = partial(g,varience = self.varience[0],mean= self.mean[0],alpha= self.alpha[0]), b_class = partial(g,varience = self.varience[1],mean= self.mean[1],alpha= self.alpha[1]))\n",
    "    # this is to predict y data  from the give X data\n",
    "    def predict(self,XD):\n",
    "        return [self.discriminent(xvalue) for xvalue in XD]"
   ]
  },
  {
   "cell_type": "code",
   "execution_count": 489,
   "metadata": {
    "collapsed": false,
    "scrolled": true
   },
   "outputs": [
    {
     "name": "stdout",
     "output_type": "stream",
     "text": [
      "mean [array([ 4.97142857]), array([ 5.93333333])]\n",
      "varience [array([ 0.13394558]), array([ 0.26513889])]\n",
      "True: [0, 0, 0, 0, 0, 0, 0, 0, 1, 1]\n",
      "Pred: [0, 0, 0, 0, 0, 0, 0, 0, 0, 1]\n",
      "mean [array([ 5.02888889]), array([ 5.98222222])]\n",
      "varience [array([ 0.12516543]), array([ 0.24057284])]\n",
      "True: [0, 0, 0, 0, 0, 1, 1, 1, 1, 1]\n",
      "Pred: [0, 0, 0, 0, 0, 0, 0, 0, 1, 1]\n",
      "mean [array([ 5.0326087]), array([ 5.925])]\n",
      "varience [array([ 0.11611059]), array([ 0.28551136])]\n",
      "True: [0, 0, 0, 0, 1, 1, 1, 1, 1, 1]\n",
      "Pred: [0, 0, 0, 0, 1, 1, 1, 1, 1, 0]\n",
      "mean [array([ 5.00666667]), array([ 5.90666667])]\n",
      "varience [array([ 0.12951111]), array([ 0.24906667])]\n",
      "True: [0, 0, 0, 0, 0, 1, 1, 1, 1, 1]\n",
      "Pred: [0, 0, 0, 0, 0, 0, 1, 1, 1, 1]\n",
      "mean [array([ 4.99772727]), array([ 5.92391304])]\n",
      "varience [array([ 0.11158574]), array([ 0.26094991])]\n",
      "True: [0, 0, 0, 0, 0, 0, 1, 1, 1, 1]\n",
      "Pred: [0, 0, 1, 0, 0, 0, 0, 1, 1, 1]\n",
      "mean [array([ 5.00851064]), array([ 5.96976744])]\n",
      "varience [array([ 0.12843821]), array([ 0.25466739])]\n",
      "True: [0, 0, 0, 1, 1, 1, 1, 1, 1, 1]\n",
      "Pred: [0, 0, 0, 0, 1, 1, 1, 1, 0, 0]\n",
      "mean [array([ 5.00454545]), array([ 5.94130435])]\n",
      "varience [array([ 0.1186157]), array([ 0.26720699])]\n",
      "True: [0, 0, 0, 0, 0, 0, 1, 1, 1, 1]\n",
      "Pred: [0, 0, 0, 0, 0, 0, 1, 1, 0, 0]\n",
      "mean [array([ 5.00681818]), array([ 5.94347826])]\n",
      "varience [array([ 0.11381715]), array([ 0.25332703])]\n",
      "True: [0, 0, 0, 0, 0, 0, 1, 1, 1, 1]\n",
      "Pred: [0, 0, 0, 1, 0, 0, 1, 1, 0, 1]\n",
      "mean [array([ 4.9893617]), array([ 5.88837209])]\n",
      "varience [array([ 0.118823]), array([ 0.23730665])]\n",
      "True: [0, 0, 0, 1, 1, 1, 1, 1, 1, 1]\n",
      "Pred: [0, 1, 0, 0, 1, 1, 0, 1, 0, 1]\n",
      "mean [array([ 5.01086957]), array([ 5.94545455])]\n",
      "varience [array([ 0.11922968]), array([ 0.29020661])]\n",
      "True: [0, 0, 0, 0, 1, 1, 1, 1, 1, 1]\n",
      "Pred: [0, 0, 0, 0, 1, 1, 1, 1, 0, 1]\n",
      "   Accuracy  Error  FN  FP  False_Positive_Rate  Precision  Sensitivity  \\\n",
      "0       0.9    0.1   1   0             0.000000       1.00     0.500000   \n",
      "1       0.7    0.3   3   0             0.000000       1.00     0.400000   \n",
      "2       0.9    0.1   1   0             0.000000       1.00     0.833333   \n",
      "3       0.9    0.1   1   0             0.000000       1.00     0.800000   \n",
      "4       0.8    0.2   1   1             0.166667       0.75     0.750000   \n",
      "\n",
      "   Specificity  TN  TP  \n",
      "0     1.000000   8   1  \n",
      "1     1.000000   5   2  \n",
      "2     1.000000   4   5  \n",
      "3     1.000000   5   4  \n",
      "4     0.833333   5   3  \n"
     ]
    },
    {
     "data": {
      "image/png": "[encoded data removed]",
      "text/plain": [
       "<matplotlib.figure.Figure at 0xa0faf98>"
      ]
     },
     "metadata": {},
     "output_type": "display_data"
    }
   ],
   "source": [
    "\n",
    "X_1D = X[:100,:1]# this is to take one feature and first 100 data sets\n",
    "Y_1D = Y [:100] # this is to take 1st 100 data sets\n",
    "\n",
    "\n",
    "matricsTotal = []\n",
    "kf = sklearn.cross_validation.KFold(n=len(Y_1D), n_folds=10, shuffle=True,random_state=5)\n",
    "for train_index, test_index in kf:\n",
    "    #print train_index\n",
    "#     X_train, X_test, Y_train, Y_test = train_test_split(X_1D, Y_1D, test_size=0.4, random_state= a)\n",
    "    X_train, X_test =[list(X_1D[a]) for a  in train_index],[list(X_1D[a]) for a  in test_index]\n",
    "    Y_train, Y_test = [Y_1D[a] for a  in train_index],[Y_1D[a] for a  in test_index]\n",
    "#     print X_train\n",
    "#     #     print Y_train\n",
    "#     print \"\\n\\n\"\n",
    "    grad =  GDA1D2C()\n",
    "    grad.fit(X_train,Y_train)\n",
    "    predicted_Y_values = grad.predict(X_test)\n",
    "    tm  = TestMetrics()\n",
    "    tm.setData(Y_test,predicted_Y_values)\n",
    "    TP,TN,FP,FN,Classification_Accuracy,Classification_Error,Sensitivity,Specificity,False_Positive_Rate,Precision =  tm.getMatrics()\n",
    "    matricsTotal.append({\"TP\":TP,\"TN\":TN,\"FP\":FP,\"FN\":FN,\"Accuracy\":Classification_Accuracy,\"Error\":Classification_Error,\"Sensitivity\":Sensitivity,\"Specificity\":Specificity,\"False_Positive_Rate\":False_Positive_Rate,\"Precision\":Precision})\n",
    "\n",
    "\n",
    "df = pd.DataFrame(matricsTotal).head()\n",
    "\n",
    "matplotlib.style.use('ggplot')\n",
    "#df.plot.figure(figsize=(50,50))\n",
    "df.plot(kind = 'bar',figsize =(10 ,10),stacked = False)\n",
    "\n",
    "print df"
   ]
  },
  {
   "cell_type": "markdown",
   "metadata": {
    "collapsed": false
   },
   "source": [
    "# Checking with 2 class n features Gaussian discreminent"
   ]
  },
  {
   "cell_type": "code",
   "execution_count": 490,
   "metadata": {
    "collapsed": false
   },
   "outputs": [
    {
     "name": "stdout",
     "output_type": "stream",
     "text": [
      "True: [0, 0, 0, 0, 0, 0, 0, 0, 1, 1]\n",
      "Pred: [0, 0, 0, 0, 0, 0, 0, 0, 0, 0]\n",
      "True: [0, 0, 0, 0, 0, 1, 1, 1, 1, 1]\n",
      "Pred: [0, 0, 0, 0, 0, 0, 0, 0, 0, 0]\n",
      "True: [0, 0, 0, 0, 1, 1, 1, 1, 1, 1]\n",
      "Pred: [0, 0, 0, 0, 0, 0, 0, 0, 0, 0]\n",
      "True: [0, 0, 0, 0, 0, 1, 1, 1, 1, 1]\n",
      "Pred: [0, 0, 0, 0, 0, 0, 0, 0, 0, 0]\n",
      "True: [0, 0, 0, 0, 0, 0, 1, 1, 1, 1]\n",
      "Pred: [0, 0, 0, 0, 0, 0, 0, 0, 0, 0]\n",
      "True: [0, 0, 0, 1, 1, 1, 1, 1, 1, 1]\n",
      "Pred: [0, 0, 0, 0, 0, 0, 0, 0, 0, 0]\n",
      "True: [0, 0, 0, 0, 0, 0, 1, 1, 1, 1]\n",
      "Pred: [0, 0, 0, 0, 0, 0, 0, 0, 0, 0]\n",
      "True: [0, 0, 0, 0, 0, 0, 1, 1, 1, 1]\n",
      "Pred: [0, 0, 0, 0, 0, 0, 0, 0, 0, 0]\n",
      "True: [0, 0, 0, 1, 1, 1, 1, 1, 1, 1]\n",
      "Pred: [0, 0, 0, 0, 0, 0, 0, 0, 0, 0]\n",
      "True: [0, 0, 0, 0, 1, 1, 1, 1, 1, 1]\n",
      "Pred: [0, 0, 0, 0, 0, 0, 0, 0, 0, 0]\n",
      "   Accuracy  Error  FN  FP  False_Positive_Rate  Precision  Sensitivity  \\\n",
      "0       0.8    0.2   2   0                    0          0            0   \n",
      "1       0.5    0.5   5   0                    0          0            0   \n",
      "2       0.4    0.6   6   0                    0          0            0   \n",
      "3       0.5    0.5   5   0                    0          0            0   \n",
      "4       0.6    0.4   4   0                    0          0            0   \n",
      "\n",
      "   Specificity  TN  TP  \n",
      "0            1   8   0  \n",
      "1            1   5   0  \n",
      "2            1   4   0  \n",
      "3            1   5   0  \n",
      "4            1   6   0  \n"
     ]
    },
    {
     "name": "stderr",
     "output_type": "stream",
     "text": [
      "C:\\Anaconda2\\lib\\site-packages\\sklearn\\metrics\\classification.py:1074: UndefinedMetricWarning: Precision is ill-defined and being set to 0.0 due to no predicted samples.\n",
      "  'precision', 'predicted', average, warn_for)\n"
     ]
    },
    {
     "data": {
      "image/png": "[encoded data removed]",
      "text/plain": [
       "<matplotlib.figure.Figure at 0xdde90b8>"
      ]
     },
     "metadata": {},
     "output_type": "display_data"
    }
   ],
   "source": [
    "X_2D = X[:100,:]# this is to take one feature and first 100 data sets\n",
    "Y_2D = Y [:100] # this is to take 1st 100 data sets\n",
    "\n",
    "matricsTotal = []\n",
    "kf = sklearn.cross_validation.KFold(n=len(Y_1D), n_folds=10, shuffle=True,random_state=5)\n",
    "for train_index, test_index in kf:\n",
    "    #print train_index\n",
    "#     X_train, X_test, Y_train, Y_test = train_test_split(X_1D, Y_1D, test_size=0.4, random_state= a)\n",
    "    X_train, X_test =[X_2D[a] for a  in train_index],[X_2D[a] for a  in test_index]\n",
    "    Y_train, Y_test = [Y_2D[a] for a  in train_index],[Y_2D[a] for a  in test_index]\n",
    "#     print X_train\n",
    "#     #     print Y_train\n",
    "#     print \"\\n\\n\"\n",
    "    grad =  GDAnD2C()\n",
    "    grad.fit(X_train,Y_train)\n",
    "    predicted_Y_values = grad.predict(X_test)\n",
    "    tm  = TestMetrics()\n",
    "    tm.setData(Y_test,predicted_Y_values)\n",
    "    TP,TN,FP,FN,Classification_Accuracy,Classification_Error,Sensitivity,Specificity,False_Positive_Rate,Precision =  tm.getMatrics()\n",
    "    matricsTotal.append({\"TP\":TP,\"TN\":TN,\"FP\":FP,\"FN\":FN,\"Accuracy\":Classification_Accuracy,\"Error\":Classification_Error,\"Sensitivity\":Sensitivity,\"Specificity\":Specificity,\"False_Positive_Rate\":False_Positive_Rate,\"Precision\":Precision})\n",
    "\n",
    "\n",
    "df = pd.DataFrame(matricsTotal).head()\n",
    "\n",
    "matplotlib.style.use('ggplot')\n",
    "#df.plot.figure(figsize=(50,50))\n",
    "df.plot(kind = 'bar',figsize =(10 ,10),stacked = False)\n",
    "\n",
    "print df\n"
   ]
  },
  {
   "cell_type": "code",
   "execution_count": 491,
   "metadata": {
    "collapsed": false
   },
   "outputs": [
    {
     "name": "stdout",
     "output_type": "stream",
     "text": [
      "(3L, 1L)\n"
     ]
    }
   ],
   "source": [
    "asdf = np.array([[1,2,4]])\n",
    "print (asdf.T).shape"
   ]
  },
  {
   "cell_type": "code",
   "execution_count": 492,
   "metadata": {
    "collapsed": false
   },
   "outputs": [
    {
     "name": "stdout",
     "output_type": "stream",
     "text": [
      "[[1]\n",
      " [2]]\n"
     ]
    }
   ],
   "source": [
    "a = [1, 2]\n",
    "asd = np.asarray([list(a)])\n",
    "print asd.T"
   ]
  },
  {
   "cell_type": "code",
   "execution_count": 473,
   "metadata": {
    "collapsed": false
   },
   "outputs": [],
   "source": [
    "class GDAnD3C:\n",
    "    def fit(self,Xdata,Ydata):\n",
    "        self.XData = Xdata\n",
    "        self.YData = Ydata\n",
    "    \n",
    "        #step:2 - find mean \n",
    "        self.mean = mean(Xdata,Ydata)\n",
    "        #print \"mean\",self.mean\n",
    "        \n",
    "        #step:3 - find co_varience\n",
    "        self.co_varience = covVar(Xdata,Ydata)\n",
    "        #print\"co varience matix\",self.co_varience\n",
    "\n",
    "        \n",
    "        ## sending the mean as transposed\n",
    "        self.g0 = partial(g_multiVariate,co_var_mat = self.co_varience[0],mean= (np.asarray([self.mean[0]])).T)\n",
    "        self.g1 = partial(g_multiVariate,co_var_mat = self.co_varience[1],mean= (np.asarray([self.mean[1]])).T)\n",
    "        self.g2 = partial(g_multiVariate,co_var_mat = self.co_varience[2],mean= (np.asarray([self.mean[2]])).T)\n",
    "\n",
    "        #step:5\n",
    "        self.discriminent = partial(discriminent_1,a_class = self.g0, b_class = self.g1, c_class = self.g2)\n",
    "\n",
    "#         self.gs = [partial(g_multiVariate,co_var_mat = self.co_varience[itr],mean= (np.asarray([self.mean[itr]])).T) for itr in range(0,len(Ydata))]\n",
    "#         #step:5\n",
    "#         self.discriminent = partial(discriminent_1,a_class = self.gs[0], b_class = self.gs[1],c_class = self.gs[2])\n",
    "#         #self.discriminent = partial(discriminent,a_class = partial(g,varience = self.varience[0],mean= self.mean[0],alpha= self.alpha[0]), b_class = partial(g,varience = self.varience[1],mean= self.mean[1],alpha= self.alpha[1]))\n",
    "\n",
    "    def predict(self,XD):\n",
    "        return [self.discriminent(xvalue) for xvalue in XD]"
   ]
  },
  {
   "cell_type": "code",
   "execution_count": 474,
   "metadata": {
    "collapsed": false
   },
   "outputs": [
    {
     "name": "stdout",
     "output_type": "stream",
     "text": [
      "[0, 1, 2, 3]\n"
     ]
    }
   ],
   "source": [
    "#print [i for i in len([1,2,3,4])]\n",
    "print [a for a in range(0,len([1,2,3,4]))]"
   ]
  },
  {
   "cell_type": "code",
   "execution_count": 475,
   "metadata": {
    "collapsed": false
   },
   "outputs": [
    {
     "name": "stdout",
     "output_type": "stream",
     "text": [
      "True: [0, 0, 0, 0, 0, 0, 1, 1, 1, 1, 2, 2, 2, 2, 2]\n",
      "Pred: [0, 0, 0, 0, 0, 0, 0, 0, 0, 0, 0, 0, 0, 0, 0]\n",
      "confusion matrix: [[6 0 0]\n",
      " [4 0 0]\n",
      " [5 0 0]]\n",
      "True: [0, 0, 0, 0, 0, 1, 1, 1, 1, 1, 1, 1, 2, 2, 2]\n",
      "Pred: [0, 0, 0, 0, 0, 0, 0, 0, 0, 0, 0, 0, 0, 0, 0]\n",
      "confusion matrix: [[5 0 0]\n",
      " [7 0 0]\n",
      " [3 0 0]]\n",
      "True: [0, 0, 0, 0, 1, 1, 1, 1, 2, 2, 2, 2, 2, 2, 2]\n",
      "Pred: [0, 0, 0, 0, 0, 0, 0, 0, 0, 0, 0, 0, 0, 0, 0]\n",
      "confusion matrix: [[4 0 0]\n",
      " [4 0 0]\n",
      " [7 0 0]]\n",
      "True: [0, 0, 0, 0, 0, 0, 0, 0, 1, 1, 1, 1, 1, 2, 2]\n",
      "Pred: [0, 0, 0, 0, 0, 0, 0, 0, 0, 0, 0, 0, 0, 0, 0]\n",
      "confusion matrix: [[8 0 0]\n",
      " [5 0 0]\n",
      " [2 0 0]]\n",
      "True: [0, 0, 0, 0, 0, 1, 1, 1, 1, 1, 2, 2, 2, 2, 2]\n",
      "Pred: [0, 0, 0, 0, 0, 0, 0, 0, 0, 0, 0, 0, 0, 0, 0]\n",
      "confusion matrix: [[5 0 0]\n",
      " [5 0 0]\n",
      " [5 0 0]]\n",
      "True: [0, 0, 0, 0, 0, 1, 1, 1, 1, 1, 1, 2, 2, 2, 2]\n",
      "Pred: [0, 0, 0, 0, 0, 0, 0, 0, 0, 0, 0, 0, 0, 0, 0]\n",
      "confusion matrix: [[5 0 0]\n",
      " [6 0 0]\n",
      " [4 0 0]]\n",
      "True: [0, 0, 1, 1, 1, 1, 2, 2, 2, 2, 2, 2, 2, 2, 2]\n",
      "Pred: [0, 0, 0, 0, 0, 0, 0, 0, 0, 0, 0, 0, 0, 0, 0]\n",
      "confusion matrix: [[2 0 0]\n",
      " [4 0 0]\n",
      " [9 0 0]]\n",
      "True: [0, 0, 0, 0, 0, 0, 1, 1, 1, 1, 1, 1, 2, 2, 2]\n",
      "Pred: [0, 0, 0, 0, 0, 0, 0, 0, 0, 0, 0, 0, 0, 0, 0]\n",
      "confusion matrix: [[6 0 0]\n",
      " [6 0 0]\n",
      " [3 0 0]]\n",
      "True: [0, 0, 0, 0, 1, 1, 1, 1, 1, 1, 2, 2, 2, 2, 2]\n",
      "Pred: [0, 0, 0, 0, 0, 0, 0, 0, 0, 0, 0, 0, 0, 0, 0]\n",
      "confusion matrix: [[4 0 0]\n",
      " [6 0 0]\n",
      " [5 0 0]]\n",
      "True: [0, 0, 0, 0, 0, 1, 1, 1, 2, 2, 2, 2, 2, 2, 2]\n",
      "Pred: [0, 0, 0, 0, 0, 0, 0, 0, 0, 0, 0, 0, 0, 0, 0]\n",
      "confusion matrix: [[5 0 0]\n",
      " [3 0 0]\n",
      " [7 0 0]]\n",
      "   Accuracy     Error  FN  FP  False_Positive_Rate  Precision  Sensitivity  \\\n",
      "0  0.600000  0.400000   4   0                    0        NaN            0   \n",
      "1  0.416667  0.583333   7   0                    0        NaN            0   \n",
      "2  0.500000  0.500000   4   0                    0        NaN            0   \n",
      "3  0.615385  0.384615   5   0                    0        NaN            0   \n",
      "4  0.500000  0.500000   5   0                    0        NaN            0   \n",
      "\n",
      "   Specificity  TN  TP  \n",
      "0            1   6   0  \n",
      "1            1   5   0  \n",
      "2            1   4   0  \n",
      "3            1   8   0  \n",
      "4            1   5   0  \n"
     ]
    },
    {
     "data": {
      "image/png": "[encoded data removed]",
      "text/plain": [
       "<matplotlib.figure.Figure at 0xdbd7908>"
      ]
     },
     "metadata": {},
     "output_type": "display_data"
    }
   ],
   "source": [
    "X_nD = X[:,:]# this is to take one feature and first 100 data sets\n",
    "Y_nD = Y [:] # this is to take 1st 100 data sets\n",
    "#print np.sum(X_12)/50\n",
    "#print Y_1D.size\n",
    "# print X_1D\n",
    "# print Y_1D\n",
    "# print len(X_1D)\n",
    "# print alpha(X_1D,Y_1D)\n",
    "# print mean(X_1D,Y_1D)\n",
    "# print varience(X_1D,Y_1D)[0]\n",
    "# STEP 1: split X and y into training and testing set\n",
    "matricsTotal = []\n",
    "kf = sklearn.cross_validation.KFold(n=len(Y_nD), n_folds=10, shuffle=True)\n",
    "for train_index, test_index in kf:\n",
    "    #print train_index\n",
    "#     X_train, X_test, Y_train, Y_test = train_test_split(X_1D, Y_1D, test_size=0.4, random_state= a)\n",
    "    X_train, X_test =[X_nD[a] for a  in train_index],[X_nD[a] for a  in test_index]\n",
    "    Y_train, Y_test = [Y_nD[a] for a  in train_index],[Y_nD[a] for a  in test_index]\n",
    "#     print X_train\n",
    "#     #     print Y_train\n",
    "#     print \"\\n\\n\"\n",
    "    grad =  GDAnD3C()\n",
    "    grad.fit(X_train,Y_train)\n",
    "    predicted_Y_values = grad.predict(X_test)\n",
    "    tm  = TestMetrics()\n",
    "    tm.setData(Y_test,predicted_Y_values)\n",
    "    TP,TN,FP,FN,Classification_Accuracy,Classification_Error,Sensitivity,Specificity,False_Positive_Rate,Precision =  tm.getMatrics()\n",
    "    matricsTotal.append({\"TP\":TP,\"TN\":TN,\"FP\":FP,\"FN\":FN,\"Accuracy\":Classification_Accuracy,\"Error\":Classification_Error,\"Sensitivity\":Sensitivity,\"Specificity\":Specificity,\"False_Positive_Rate\":False_Positive_Rate,\"Precision\":Precision})\n",
    "\n",
    "\n",
    "df = pd.DataFrame(matricsTotal).head()\n",
    "\n",
    "matplotlib.style.use('ggplot')\n",
    "#df.plot.figure(figsize=(50,50))\n",
    "df.plot(kind = 'bar',figsize =(10 ,10),stacked = False)\n",
    "\n",
    "print df"
   ]
  },
  {
   "cell_type": "code",
   "execution_count": null,
   "metadata": {
    "collapsed": true
   },
   "outputs": [],
   "source": []
  },
  {
   "cell_type": "code",
   "execution_count": null,
   "metadata": {
    "collapsed": true
   },
   "outputs": [],
   "source": []
  },
  {
   "cell_type": "code",
   "execution_count": null,
   "metadata": {
    "collapsed": true
   },
   "outputs": [],
   "source": []
  },
  {
   "cell_type": "code",
   "execution_count": null,
   "metadata": {
    "collapsed": true
   },
   "outputs": [],
   "source": []
  },
  {
   "cell_type": "code",
   "execution_count": null,
   "metadata": {
    "collapsed": true
   },
   "outputs": [],
   "source": []
  },
  {
   "cell_type": "code",
   "execution_count": null,
   "metadata": {
    "collapsed": true
   },
   "outputs": [],
   "source": []
  },
  {
   "cell_type": "code",
   "execution_count": null,
   "metadata": {
    "collapsed": true
   },
   "outputs": [],
   "source": []
  },
  {
   "cell_type": "code",
   "execution_count": null,
   "metadata": {
    "collapsed": true
   },
   "outputs": [],
   "source": []
  },
  {
   "cell_type": "code",
   "execution_count": null,
   "metadata": {
    "collapsed": true
   },
   "outputs": [],
   "source": []
  }
 ],
 "metadata": {
  "kernelspec": {
   "display_name": "Python 2",
   "language": "python",
   "name": "python2"
  },
  "language_info": {
   "codemirror_mode": {
    "name": "ipython",
    "version": 2
   },
   "file_extension": ".py",
   "mimetype": "text/x-python",
   "name": "python",
   "nbconvert_exporter": "python",
   "pygments_lexer": "ipython2",
   "version": "2.7.11"
  }
 },
 "nbformat": 4,
 "nbformat_minor": 0
}
