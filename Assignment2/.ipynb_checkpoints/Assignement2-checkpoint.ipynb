{
 "cells": [
  {
   "cell_type": "markdown",
   "metadata": {},
   "source": [
    "# Assignment 2 \n",
    "- 1D 2 class Gaussian Discriminent\n",
    "- 2D 2 class Gaussian Discriminent\n",
    "- kD k class Gaussian Discriminent\n",
    "### setting all the imports\n"
   ]
  },
  {
   "cell_type": "code",
   "execution_count": 201,
   "metadata": {
    "collapsed": false
   },
   "outputs": [],
   "source": [
    "# all imports\n",
    "%matplotlib inline\n",
    "import os\n",
    "import numpy as np\n",
    "import matplotlib.pyplot as plt\n",
    "import matplotlib \n",
    "import pandas as pd\n",
    "import re\n",
    "from sklearn import datasets, linear_model\n",
    "from sklearn.cross_validation import KFold    \n",
    "import sklearn\n",
    "from sklearn import metrics\n",
    "from sklearn.metrics import mean_squared_error\n",
    "from sklearn.metrics import confusion_matrix\n",
    "from sklearn.metrics import accuracy_score\n",
    "from numpy.linalg import inv\n",
    "from sklearn.preprocessing import PolynomialFeatures\n",
    "import collections # this is used to perform the collection  based sorting  and unique element identification\n",
    "from sklearn.cross_validation import train_test_split #  this is used for cross validation \n",
    "from functools import partial # this is to accomdate partials\n",
    "import random\n",
    "from numpy.linalg import inv"
   ]
  },
  {
   "cell_type": "code",
   "execution_count": null,
   "metadata": {
    "collapsed": true
   },
   "outputs": [],
   "source": []
  },
  {
   "cell_type": "markdown",
   "metadata": {},
   "source": [
    "### This a class tha twould be used to test the data set"
   ]
  },
  {
   "cell_type": "code",
   "execution_count": 202,
   "metadata": {
    "collapsed": false
   },
   "outputs": [],
   "source": [
    "class TestMetrics:\n",
    "    \n",
    "    def setData(self,y_test,y_pred_class):\n",
    "            self.y_test = y_test\n",
    "            self.y_pred_class = y_pred_class\n",
    "#             print 'True:', y_test\n",
    "#             print 'Pred:', y_pred_class\n",
    "        \n",
    "    def getMatrics(self):\n",
    "        print metrics.accuracy_score(self.y_test, self.y_pred_class)\n",
    "        # save confusion matrix and slice into four pieces\n",
    "        confusion = metrics.confusion_matrix(self.y_test, self.y_pred_class)\n",
    "#         print \"confusion matrix:\",confusion\n",
    "        TP = confusion[1, 1]\n",
    "        TN = confusion[0, 0]\n",
    "        FP = confusion[0, 1]\n",
    "        FN = confusion[1, 0]\n",
    "        \n",
    "        #Classification Accuracy: Overall, how often is the classifier correct?\n",
    "        Classification_Accuracy = (TP + TN) / float(TP + TN + FP + FN)\n",
    "        #print \"#Classification Accuracy:\\t\",Classification_Accuracy\n",
    "        # print metrics.accuracy_score(y_test, y_pred_class)\n",
    "        \n",
    "        #Classification Error: Overall, how often is the classifier incorrect?\n",
    "        Classification_Error = (FP + FN) / float(TP + TN + FP + FN)\n",
    "        #print \"#Classification Error:\\t\",Classification_Error\n",
    "        #print 1 - metrics.accuracy_score(y_test, y_pred_class)\n",
    "        \n",
    "        #Sensitivity:\n",
    "        Sensitivity = TP / float(TP + FN)\n",
    "        #print \"#Sensitivity:\\t\",Sensitivity\n",
    "        #print metrics.recall_score(y_test, y_pred_class)\n",
    "        #Specificity: \n",
    "        Specificity = TN / float(TN + FP)\n",
    "        #print \"#Specificity:\\t\",Specificity\n",
    "        #False Positive Rate:\n",
    "        False_Positive_Rate = FP / float(TN + FP)\n",
    "        #print \"#False Positive Rate:\",False_Positive_Rate\n",
    "        #Precision: \n",
    "        Precision = TP / float(TP + FP)\n",
    "        #print \"#Precision:\\t\",Precision\n",
    "        #print metrics.precision_score(y_test, y_pred_class)\n",
    "        #print TP,TN,FP,FN,Classification_Accuracy,Classification_Error,Sensitivity,Specificity,False_Positive_Rate,Precision\n",
    "        return TP,TN,FP,FN,Classification_Accuracy,Classification_Error,Sensitivity,Specificity,False_Positive_Rate,Precision\n",
    "#test        \n",
    "# tm  = TestMetrics()\n",
    "# tm.setData(Y,Y)\n",
    "# tm.getMatrics()"
   ]
  },
  {
   "cell_type": "code",
   "execution_count": 214,
   "metadata": {
    "collapsed": false
   },
   "outputs": [],
   "source": [
    "# fetching all data\n",
    "\n",
    "# import some data to play with\n",
    "iris = datasets.load_iris()\n",
    "X = iris.data[:,:]  # we only take the first two features.\n",
    "Y = iris.target\n",
    "\n",
    "numberOfClass = lambda listValues :list(set(listValues))# this is the number of classes in each dataset\n",
    "\n",
    "m = lambda listValues: collections.Counter(listValues)\n",
    "\n",
    "idf = lambda currentClass,itratingClass : (0,1)[currentClass == itratingClass] # this is the indicator function\n",
    "\n",
    "mean = lambda X_D,Y_D:[np.mean([idf(Y_D[rowIndex],classElement)*rowElements for rowIndex,rowElements in enumerate(X_D)if idf(Y_D[rowIndex],classElement)== 1],axis = 0) for classIndex ,classElement in enumerate(numberOfClass(Y_D))]\n",
    "\n",
    "varience =lambda X_D,Y_D:[np.var([idf(Y_D[rowIndex],classElement)*rowElements for rowIndex,rowElements in enumerate(X_D)if idf(Y_D[rowIndex],classElement)== 1],axis = 0) for classIndex ,classElement in enumerate(numberOfClass(Y_D))]\n",
    "\n",
    "alpha = lambda X_D,Y_D:[m(Y_1D)[classElement]*1.0/len(Y_D) for classElement in (numberOfClass(Y_D))]\n",
    "# this is for 1D calculation\n",
    "g = lambda x,var,mean,alpha: np.log2(alpha)- (((x-mean)**2)/2*(var**2))\n",
    "\n",
    "covVar =  lambda X_D,Y_D:[np.cov(np.array([idf(Y_D[rowIndex],classElement)*rowElements for rowIndex,rowElements in enumerate(X_D)if idf(Y_D[rowIndex],classElement)== 1]).T) for classIndex,classElement in enumerate(numberOfClass(Y_D))]\n",
    "# this is for 2D calcultaion\n",
    "g_multiVariate = lambda x,co_var_mat,mean: ((2*np.dot(np.dot(x.T,inv(co_var_mat)),mean)) - (np.dot(np.dot(mean.T,inv(co_var_mat)),mean)))\n",
    "\n",
    "# discriminent = lambda x,a_class,b_class : (1,0)[ a_class(x) > b_class(x) ]\n",
    "# discriminent = lambda x,a_class,b_class: 1 if  a_class(x)>b_class(x) else 0                                           \n",
    "def discriminent (x, a_class, b_class):\n",
    "    sendX = (np.asarray([x])).T # sending x as a collection of rows vector\n",
    "    if a_class(sendX)>b_class(sendX):\n",
    "        return 1\n",
    "    else :\n",
    "        return 0\n",
    "\n",
    "# test \n",
    "#covVar(X,Y)\n",
    "\n"
   ]
  },
  {
   "cell_type": "code",
   "execution_count": 215,
   "metadata": {
    "collapsed": false
   },
   "outputs": [],
   "source": [
    "class GDA1D2C:\n",
    "    #this si to fit the existing data\n",
    "    def fit(self,Xdata,Ydata):\n",
    "        self.XData = Xdata\n",
    "        self.YData = Ydata\n",
    "        #step:1 - find alpha\n",
    "        self.alpha = alpha(Xdata,Ydata)\n",
    "#         print \"alpha\"\n",
    "#         print self.alpha\n",
    "        #step:2 - find mean \n",
    "        self.mean = mean(Xdata,Ydata)\n",
    "        #print \"mean\",self.mean\n",
    "        #step:3 - find varience\n",
    "        self.varience = varience(Xdata,Ydata)\n",
    "        #print\"varience\",self.varience\n",
    "        #step:4\n",
    "        g0 = partial(g,var = self.varience[0],mean= self.mean[0],alpha= self.alpha[0])\n",
    "        g1 = partial(g,var = self.varience[1],mean= self.mean[1],alpha= self.alpha[1])\n",
    "        #step:5\n",
    "        self.discriminent = partial(discriminent,a_class = g0, b_class = g1)\n",
    "        #self.discriminent = partial(discriminent,a_class = partial(g,varience = self.varience[0],mean= self.mean[0],alpha= self.alpha[0]), b_class = partial(g,varience = self.varience[1],mean= self.mean[1],alpha= self.alpha[1]))\n",
    "    # this is to predict y data  from the give X data\n",
    "    def predict(self,XD):\n",
    "        return [self.discriminent(xvalue) for xvalue in XD]"
   ]
  },
  {
   "cell_type": "code",
   "execution_count": 216,
   "metadata": {
    "collapsed": false
   },
   "outputs": [],
   "source": [
    "class GDAnD2C:\n",
    "    #this si to fit the existing data\n",
    "    def fit(self,Xdata,Ydata):\n",
    "        self.XData = Xdata\n",
    "        self.YData = Ydata\n",
    "    \n",
    "        #step:2 - find mean \n",
    "        self.mean = mean(Xdata,Ydata)\n",
    "        #print \"mean\",self.mean\n",
    "        \n",
    "        #step:3 - find co_varience\n",
    "        self.co_varience = covVar(Xdata,Ydata)\n",
    "        #print\"co varience matix\",self.co_varience\n",
    "        \n",
    "        #step:4\n",
    "        #print \"mean--------\", ((np.asarray([self.mean[0]])).T).shape\n",
    "        \n",
    "        ## sending the mean as transposed\n",
    "        self.g0 = partial(g_multiVariate,co_var_mat = self.co_varience[0],mean= (np.asarray([self.mean[0]])).T)\n",
    "        self.g1 = partial(g_multiVariate,co_var_mat = self.co_varience[1],mean= (np.asarray([self.mean[1]])).T)\n",
    "        #step:5\n",
    "        self.discriminent = partial(discriminent,a_class = self.g0, b_class = self.g1)\n",
    "        #self.discriminent = partial(discriminent,a_class = partial(g,varience = self.varience[0],mean= self.mean[0],alpha= self.alpha[0]), b_class = partial(g,varience = self.varience[1],mean= self.mean[1],alpha= self.alpha[1]))\n",
    "    # this is to predict y data  from the give X data\n",
    "    def predict(self,XD):\n",
    "        return [self.discriminent(xvalue) for xvalue in XD]"
   ]
  },
  {
   "cell_type": "code",
   "execution_count": 217,
   "metadata": {
    "collapsed": false,
    "scrolled": true
   },
   "outputs": [
    {
     "name": "stdout",
     "output_type": "stream",
     "text": [
      "0.1\n",
      "0.3\n",
      "0.1\n",
      "0.1\n",
      "0.2\n",
      "0.3\n",
      "0.2\n",
      "0.2\n",
      "0.4\n",
      "0.1\n",
      "   Accuracy  Error  FN  FP  False_Positive_Rate  Precision  Sensitivity  \\\n",
      "0       0.1    0.9   1   8             1.000000   0.111111     0.500000   \n",
      "1       0.3    0.7   2   5             1.000000   0.375000     0.600000   \n",
      "2       0.1    0.9   5   4             1.000000   0.200000     0.166667   \n",
      "3       0.1    0.9   4   5             1.000000   0.166667     0.200000   \n",
      "4       0.2    0.8   3   5             0.833333   0.166667     0.250000   \n",
      "\n",
      "   Specificity  TN  TP  \n",
      "0     0.000000   0   1  \n",
      "1     0.000000   0   3  \n",
      "2     0.000000   0   1  \n",
      "3     0.000000   0   1  \n",
      "4     0.166667   1   1  \n"
     ]
    },
    {
     "data": {
      "image/png": "[encoded data removed]",
      "text/plain": [
       "<matplotlib.figure.Figure at 0xb7334e0>"
      ]
     },
     "metadata": {},
     "output_type": "display_data"
    }
   ],
   "source": [
    "\n",
    "X_1D = X[:100,:1]# this is to take one feature and first 100 data sets\n",
    "Y_1D = Y [:100] # this is to take 1st 100 data sets\n",
    "\n",
    "\n",
    "matricsTotal = []\n",
    "kf = sklearn.cross_validation.KFold(n=len(Y_1D), n_folds=10, shuffle=True,random_state=5)\n",
    "for train_index, test_index in kf:\n",
    "    #print train_index\n",
    "#     X_train, X_test, Y_train, Y_test = train_test_split(X_1D, Y_1D, test_size=0.4, random_state= a)\n",
    "    X_train, X_test =[list(X_1D[a]) for a  in train_index],[list(X_1D[a]) for a  in test_index]\n",
    "    Y_train, Y_test = [Y_1D[a] for a  in train_index],[Y_1D[a] for a  in test_index]\n",
    "#     print X_train\n",
    "#     #     print Y_train\n",
    "#     print \"\\n\\n\"\n",
    "    grad =  GDA1D2C()\n",
    "    grad.fit(X_train,Y_train)\n",
    "    predicted_Y_values = grad.predict(X_test)\n",
    "    tm  = TestMetrics()\n",
    "    tm.setData(Y_test,predicted_Y_values)\n",
    "    TP,TN,FP,FN,Classification_Accuracy,Classification_Error,Sensitivity,Specificity,False_Positive_Rate,Precision =  tm.getMatrics()\n",
    "    matricsTotal.append({\"TP\":TP,\"TN\":TN,\"FP\":FP,\"FN\":FN,\"Accuracy\":Classification_Accuracy,\"Error\":Classification_Error,\"Sensitivity\":Sensitivity,\"Specificity\":Specificity,\"False_Positive_Rate\":False_Positive_Rate,\"Precision\":Precision})\n",
    "\n",
    "\n",
    "df = pd.DataFrame(matricsTotal).head()\n",
    "\n",
    "matplotlib.style.use('ggplot')\n",
    "#df.plot.figure(figsize=(50,50))\n",
    "df.plot(kind = 'bar',figsize =(10 ,10),stacked = False)\n",
    "\n",
    "print df"
   ]
  },
  {
   "cell_type": "markdown",
   "metadata": {
    "collapsed": false
   },
   "source": [
    "# Checking with 2 class n features Gaussian discreminent"
   ]
  },
  {
   "cell_type": "code",
   "execution_count": 218,
   "metadata": {
    "collapsed": false
   },
   "outputs": [
    {
     "name": "stdout",
     "output_type": "stream",
     "text": [
      "mean [array([ 4.97142857,  3.39285714,  1.45714286,  0.2452381 ]), array([ 5.93333333,  2.7625    ,  4.25416667,  1.32291667])]\n",
      "co varience matix [array([[ 0.13721254,  0.11247387,  0.01581882,  0.01376307],\n",
      "       [ 0.11247387,  0.15433798,  0.01114983,  0.01716028],\n",
      "       [ 0.01581882,  0.01114983,  0.03080139,  0.0056446 ],\n",
      "       [ 0.01376307,  0.01716028,  0.0056446 ,  0.01131823]]), array([[ 0.27078014,  0.08914894,  0.19198582,  0.05964539],\n",
      "       [ 0.08914894,  0.10111702,  0.08484043,  0.04215426],\n",
      "       [ 0.19198582,  0.08484043,  0.22891844,  0.07532801],\n",
      "       [ 0.05964539,  0.04215426,  0.07532801,  0.04010195]])]\n",
      "mean-------- (4L, 1L)\n",
      "0.2\n",
      "mean [array([ 5.02888889,  3.44444444,  1.47111111,  0.25333333]), array([ 5.98222222,  2.78888889,  4.29333333,  1.33555556])]\n",
      "co varience matix [array([[ 0.1280101 ,  0.10459596,  0.01539899,  0.00956061],\n",
      "       [ 0.10459596,  0.15116162,  0.01222222,  0.00871212],\n",
      "       [ 0.01539899,  0.01222222,  0.03210101,  0.00634848],\n",
      "       [ 0.00956061,  0.00871212,  0.00634848,  0.01118182]]), array([[ 0.2460404 ,  0.06638889,  0.16078788,  0.04587374],\n",
      "       [ 0.06638889,  0.08646465,  0.06242424,  0.03131313],\n",
      "       [ 0.16078788,  0.06242424,  0.20109091,  0.06069697],\n",
      "       [ 0.04587374,  0.03131313,  0.06069697,  0.03234343]])]\n",
      "mean-------- (4L, 1L)\n",
      "0.5\n",
      "mean [array([ 5.0326087 ,  3.42391304,  1.47173913,  0.25      ]), array([ 5.925     ,  2.76590909,  4.23863636,  1.32045455])]\n",
      "co varience matix [array([[ 0.11869082,  0.10409179,  0.00938647,  0.00855556],\n",
      "       [ 0.10409179,  0.15341546,  0.01135749,  0.01122222],\n",
      "       [ 0.00938647,  0.01135749,  0.02073913,  0.005     ],\n",
      "       [ 0.00855556,  0.01122222,  0.005     ,  0.01188889]]), array([[ 0.29215116,  0.09552326,  0.20343023,  0.06087209],\n",
      "       [ 0.09552326,  0.09997357,  0.08878964,  0.04303911],\n",
      "       [ 0.20343023,  0.08878964,  0.23870507,  0.07965645],\n",
      "       [ 0.06087209,  0.04303911,  0.07965645,  0.04259514]])]\n",
      "mean-------- (4L, 1L)\n",
      "0.6\n",
      "mean [array([ 5.00666667,  3.41555556,  1.45777778,  0.23777778]), array([ 5.90666667,  2.75777778,  4.24666667,  1.31777778])]\n",
      "co varience matix [array([[ 0.13245455,  0.10898485,  0.01710606,  0.01224242],\n",
      "       [ 0.10898485,  0.15407071,  0.01385354,  0.01167172],\n",
      "       [ 0.01710606,  0.01385354,  0.03249495,  0.00594949],\n",
      "       [ 0.01224242,  0.01167172,  0.00594949,  0.01149495]]), array([[ 0.25472727,  0.08869697,  0.17672727,  0.05601515],\n",
      "       [ 0.08869697,  0.1020404 ,  0.09406061,  0.04622222],\n",
      "       [ 0.17672727,  0.09406061,  0.21890909,  0.07619697],\n",
      "       [ 0.05601515,  0.04622222,  0.07619697,  0.04194949]])]\n",
      "mean-------- (4L, 1L)\n",
      "0.5\n",
      "mean [array([ 4.99772727,  3.39772727,  1.46136364,  0.24090909]), array([ 5.92391304,  2.74782609,  4.25869565,  1.32608696])]\n",
      "co varience matix [array([[ 0.11418076,  0.08976216,  0.02595666,  0.01242072],\n",
      "       [ 0.08976216,  0.13929704,  0.01874736,  0.01311839],\n",
      "       [ 0.02595666,  0.01874736,  0.03126321,  0.00533827],\n",
      "       [ 0.01242072,  0.01311839,  0.00533827,  0.00991543]]), array([[ 0.26674879,  0.08483092,  0.18078744,  0.05425121],\n",
      "       [ 0.08483092,  0.09366184,  0.07935266,  0.03916908],\n",
      "       [ 0.18078744,  0.07935266,  0.21714493,  0.06999034],\n",
      "       [ 0.05425121,  0.03916908,  0.06999034,  0.03752657]])]\n",
      "mean-------- (4L, 1L)\n",
      "0.4\n",
      "mean [array([ 5.00851064,  3.4212766 ,  1.46595745,  0.24255319]), array([ 5.96976744,  2.78139535,  4.28604651,  1.33023256])]\n",
      "co varience matix [array([[ 0.13123034,  0.10416281,  0.01681776,  0.0113691 ],\n",
      "       [ 0.10416281,  0.14736355,  0.01139223,  0.01211841],\n",
      "       [ 0.01681776,  0.01139223,  0.03185939,  0.00604533],\n",
      "       [ 0.0113691 ,  0.01211841,  0.00604533,  0.0120629 ]]), array([[ 0.2607309 ,  0.08323367,  0.16742525,  0.05641196],\n",
      "       [ 0.08323367,  0.10821705,  0.08282946,  0.04486157],\n",
      "       [ 0.16742525,  0.08282946,  0.18932447,  0.06924142],\n",
      "       [ 0.05641196,  0.04486157,  0.06924142,  0.03882614]])]\n",
      "mean-------- (4L, 1L)\n",
      "0.7\n",
      "mean [array([ 5.00454545,  3.425     ,  1.47727273,  0.24545455]), array([ 5.94130435,  2.77608696,  4.25652174,  1.32173913])]\n",
      "co varience matix [array([[ 0.12137421,  0.10593023,  0.01661734,  0.0102537 ],\n",
      "       [ 0.10593023,  0.15912791,  0.01151163,  0.0127907 ],\n",
      "       [ 0.01661734,  0.01151163,  0.0320296 ,  0.00570825],\n",
      "       [ 0.0102537 ,  0.0127907 ,  0.00570825,  0.01230444]]), array([[ 0.27314493,  0.09078744,  0.19272464,  0.0568599 ],\n",
      "       [ 0.09078744,  0.09163768,  0.0849372 ,  0.04186473],\n",
      "       [ 0.19272464,  0.0849372 ,  0.22962319,  0.07274396],\n",
      "       [ 0.0568599 ,  0.04186473,  0.07274396,  0.03818357]])]\n",
      "mean-------- (4L, 1L)\n",
      "0.4\n",
      "mean [array([ 5.00681818,  3.44545455,  1.45909091,  0.24318182]), array([ 5.94347826,  2.76956522,  4.2673913 ,  1.3326087 ])]\n",
      "co varience matix [array([[ 0.11646406,  0.08665962,  0.0098203 ,  0.00946617],\n",
      "       [ 0.08665962,  0.11928118,  0.00376321,  0.01054968],\n",
      "       [ 0.0098203 ,  0.00376321,  0.03084567,  0.00552854],\n",
      "       [ 0.00946617,  0.01054968,  0.00552854,  0.0118129 ]]), array([[ 0.25895652,  0.08090821,  0.17256039,  0.05388406],\n",
      "       [ 0.08090821,  0.10038647,  0.07742995,  0.04123671],\n",
      "       [ 0.17256039,  0.07742995,  0.21469082,  0.07219807],\n",
      "       [ 0.05388406,  0.04123671,  0.07219807,  0.04002415]])]\n",
      "mean-------- (4L, 1L)\n",
      "0.4\n",
      "mean [array([ 4.9893617 ,  3.3893617 ,  1.45319149,  0.23829787]), array([ 5.88837209,  2.76976744,  4.23255814,  1.31860465])]\n",
      "co varience matix [array([[ 0.12140611,  0.09075393,  0.01557817,  0.00845976],\n",
      "       [ 0.09075393,  0.12966698,  0.00775208,  0.0073728 ],\n",
      "       [ 0.01557817,  0.00775208,  0.02776133,  0.00444033],\n",
      "       [ 0.00845976,  0.0073728 ,  0.00444033,  0.01111008]]), array([[ 0.24295681,  0.07773533,  0.18062569,  0.05188815],\n",
      "       [ 0.07773533,  0.10311185,  0.08672204,  0.0436711 ],\n",
      "       [ 0.18062569,  0.08672204,  0.23224806,  0.0765227 ],\n",
      "       [ 0.05188815,  0.0436711 ,  0.0765227 ,  0.0410742 ]])]\n",
      "mean-------- (4L, 1L)\n",
      "0.7\n",
      "mean [array([ 5.01086957,  3.42391304,  1.46521739,  0.24347826]), array([ 5.94545455,  2.78181818,  4.26590909,  1.33409091])]\n",
      "co varience matix [array([[ 0.12187923,  0.09617874,  0.0186087 ,  0.00951691],\n",
      "       [ 0.09617874,  0.14452657,  0.01462802,  0.01004831],\n",
      "       [ 0.0186087 ,  0.01462802,  0.03165217,  0.00687923],\n",
      "       [ 0.00951691,  0.01004831,  0.00687923,  0.01184541]]), array([[ 0.2969556 ,  0.09410148,  0.20112051,  0.06190275],\n",
      "       [ 0.09410148,  0.09966173,  0.08610994,  0.0392389 ],\n",
      "       [ 0.20112051,  0.08610994,  0.23857822,  0.07932875],\n",
      "       [ 0.06190275,  0.0392389 ,  0.07932875,  0.03904334]])]\n",
      "mean-------- (4L, 1L)\n",
      "0.6\n",
      "   Accuracy  Error  FN  FP  False_Positive_Rate  Precision  Sensitivity  \\\n",
      "0       0.2    0.8   0   8                    1        0.2            1   \n",
      "1       0.5    0.5   0   5                    1        0.5            1   \n",
      "2       0.6    0.4   0   4                    1        0.6            1   \n",
      "3       0.5    0.5   0   5                    1        0.5            1   \n",
      "4       0.4    0.6   0   6                    1        0.4            1   \n",
      "\n",
      "   Specificity  TN  TP  \n",
      "0            0   0   2  \n",
      "1            0   0   5  \n",
      "2            0   0   6  \n",
      "3            0   0   5  \n",
      "4            0   0   4  \n"
     ]
    },
    {
     "data": {
      "image/png": "[encoded data removed]",
      "text/plain": [
       "<matplotlib.figure.Figure at 0xae156a0>"
      ]
     },
     "metadata": {},
     "output_type": "display_data"
    }
   ],
   "source": [
    "X_2D = X[:100,:]# this is to take one feature and first 100 data sets\n",
    "Y_2D = Y [:100] # this is to take 1st 100 data sets\n",
    "\n",
    "\n",
    "\n",
    "#print np.sum(X_12)/50\n",
    "#print Y_1D.size\n",
    "# print X_1D\n",
    "# print Y_1D\n",
    "# print len(X_1D)\n",
    "# print alpha(X_1D,Y_1D)\n",
    "# print mean(X_1D,Y_1D)\n",
    "# print varience(X_1D,Y_1D)[0]\n",
    "# STEP 1: split X and y into training and testing set\n",
    "matricsTotal = []\n",
    "kf = sklearn.cross_validation.KFold(n=len(Y_1D), n_folds=10, shuffle=True,random_state=5)\n",
    "for train_index, test_index in kf:\n",
    "    #print train_index\n",
    "#     X_train, X_test, Y_train, Y_test = train_test_split(X_1D, Y_1D, test_size=0.4, random_state= a)\n",
    "    X_train, X_test =[X_2D[a] for a  in train_index],[X_2D[a] for a  in test_index]\n",
    "    Y_train, Y_test = [Y_2D[a] for a  in train_index],[Y_2D[a] for a  in test_index]\n",
    "#     print X_train\n",
    "#     #     print Y_train\n",
    "#     print \"\\n\\n\"\n",
    "    grad =  GDAnD2C()\n",
    "    grad.fit(X_train,Y_train)\n",
    "    predicted_Y_values = grad.predict(X_test)\n",
    "    tm  = TestMetrics()\n",
    "    tm.setData(Y_test,predicted_Y_values)\n",
    "    TP,TN,FP,FN,Classification_Accuracy,Classification_Error,Sensitivity,Specificity,False_Positive_Rate,Precision =  tm.getMatrics()\n",
    "    matricsTotal.append({\"TP\":TP,\"TN\":TN,\"FP\":FP,\"FN\":FN,\"Accuracy\":Classification_Accuracy,\"Error\":Classification_Error,\"Sensitivity\":Sensitivity,\"Specificity\":Specificity,\"False_Positive_Rate\":False_Positive_Rate,\"Precision\":Precision})\n",
    "\n",
    "\n",
    "df = pd.DataFrame(matricsTotal).head()\n",
    "\n",
    "matplotlib.style.use('ggplot')\n",
    "#df.plot.figure(figsize=(50,50))\n",
    "df.plot(kind = 'bar',figsize =(20 ,20),stacked = False)\n",
    "\n",
    "print df\n"
   ]
  },
  {
   "cell_type": "code",
   "execution_count": 211,
   "metadata": {
    "collapsed": false
   },
   "outputs": [
    {
     "name": "stdout",
     "output_type": "stream",
     "text": [
      "(3L, 1L)\n"
     ]
    }
   ],
   "source": [
    "asdf = np.array([[1,2,4]])\n",
    "print (asdf.T).shape"
   ]
  },
  {
   "cell_type": "code",
   "execution_count": 212,
   "metadata": {
    "collapsed": false
   },
   "outputs": [
    {
     "name": "stdout",
     "output_type": "stream",
     "text": [
      "[[1]\n",
      " [2]]\n"
     ]
    }
   ],
   "source": [
    "a = [1, 2]\n",
    "asd = np.asarray([list(a)])\n",
    "print asd.T"
   ]
  },
  {
   "cell_type": "code",
   "execution_count": null,
   "metadata": {
    "collapsed": true
   },
   "outputs": [],
   "source": []
  }
 ],
 "metadata": {
  "kernelspec": {
   "display_name": "Python 2",
   "language": "python",
   "name": "python2"
  },
  "language_info": {
   "codemirror_mode": {
    "name": "ipython",
    "version": 2
   },
   "file_extension": ".py",
   "mimetype": "text/x-python",
   "name": "python",
   "nbconvert_exporter": "python",
   "pygments_lexer": "ipython2",
   "version": "2.7.11"
  }
 },
 "nbformat": 4,
 "nbformat_minor": 0
}
