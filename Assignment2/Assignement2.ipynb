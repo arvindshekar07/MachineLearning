{
 "cells": [
  {
   "cell_type": "code",
   "execution_count": 28,
   "metadata": {
    "collapsed": true
   },
   "outputs": [],
   "source": [
    "# all imports\n",
    "%matplotlib inline\n",
    "import os\n",
    "import numpy as np\n",
    "import matplotlib.pyplot as plt\n",
    "import pandas as pd\n",
    "import re\n",
    "from sklearn import datasets, linear_model\n",
    "from sklearn.cross_validation import KFold    \n",
    "import sklearn\n",
    "from sklearn.metrics import mean_squared_error\n",
    "from numpy.linalg import inv\n",
    "from sklearn.preprocessing import PolynomialFeatures\n",
    "from sklearn import datasets\n"
   ]
  },
  {
   "cell_type": "code",
   "execution_count": 29,
   "metadata": {
    "collapsed": false
   },
   "outputs": [
    {
     "name": "stdout",
     "output_type": "stream",
     "text": [
      "3\n"
     ]
    }
   ],
   "source": [
    "# fetching all data\n",
    "\n",
    "# import some data to play with\n",
    "iris = datasets.load_iris()\n",
    "X = iris.data[:,:]  # we only take the first two features.\n",
    "Y = iris.target\n",
    "#print X[:,:1]\n",
    "\n",
    "MEAN = lambda mean_val :np.mean(mean_val)\n",
    "SUMMATION = lambda sumaation_val : np.sum(sumaation_val)\n",
    "VARIANCE = lambda data :np.var(data)"
   ]
  },
  {
   "cell_type": "markdown",
   "metadata": {},
   "source": []
  },
  {
   "cell_type": "code",
   "execution_count": 41,
   "metadata": {
    "collapsed": false
   },
   "outputs": [
    {
     "name": "stdout",
     "output_type": "stream",
     "text": [
      "150\n",
      "3\n",
      "50\n",
      "0.5\n",
      "876.5\n",
      "0.681122222222\n"
     ]
    }
   ],
   "source": []
  },
  {
   "cell_type": "code",
   "execution_count": null,
   "metadata": {
    "collapsed": true
   },
   "outputs": [],
   "source": [
    "class GDA_1D:\n",
    "    def prior(self,kClass=2,dataset,Y_dataset,targetDataset):\n",
    "        x = len(dataset)\n",
    "        print x\n",
    "        y = len(set(Y))\n",
    "        fractions = x/y\n",
    "        assert (kClass<=y)\n",
    "        assert(kClass>0)\n",
    "        return (fractions*1./(fractions*kClass)\n",
    "    \n",
    "    def initialize(self):\n",
    "    \n",
    "\n",
    "    def fit(self,X_data,Y_data):\n",
    "        \n",
    "        \n",
    "    def predict(self,X_data):\n",
    "        "
   ]
  },
  {
   "cell_type": "code",
   "execution_count": null,
   "metadata": {
    "collapsed": true
   },
   "outputs": [],
   "source": [
    "kFolds =10\n",
    "kf = sklearn.cross_validation.KFold(n=len(), n_folds=kFolds, shuffle=False,random_state=None)\n",
    "\n"
   ]
  }
 ],
 "metadata": {
  "kernelspec": {
   "display_name": "Python 2",
   "language": "python",
   "name": "python2"
  },
  "language_info": {
   "codemirror_mode": {
    "name": "ipython",
    "version": 2
   },
   "file_extension": ".py",
   "mimetype": "text/x-python",
   "name": "python",
   "nbconvert_exporter": "python",
   "pygments_lexer": "ipython2",
   "version": "2.7.11"
  }
 },
 "nbformat": 4,
 "nbformat_minor": 0
}
